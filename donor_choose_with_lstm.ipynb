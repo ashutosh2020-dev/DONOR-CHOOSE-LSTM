{
 "cells": [
  {
   "cell_type": "markdown",
   "metadata": {
    "id": "b2gz-M1yMKeG"
   },
   "source": [
    "## Assignment : 14"
   ]
  },
  {
   "cell_type": "markdown",
   "metadata": {
    "id": "q2nQ4JBuMKez"
   },
   "source": [
    "<pre>\n",
    "1. You can work with preprocessed_data.csv for the assignment. You can get the data from - <a href='https://drive.google.com/drive/u/0/folders/1CJnItndeSSJu7aragQoXWZS9-0apN6pp'>Data folder </a>\n",
    "2. Load the data in your notebook.\n",
    "3. After step 2 you have to train 3 types of models as discussed below. \n",
    "4. For all the model use <a href='https://scikit-learn.org/stable/modules/model_evaluation.html#roc-metrics'>'auc'</a> as a metric. check <a  href='https://stackoverflow.com/a/46844409'>this</a> and <a  href='https://www.kaggle.com/c/santander-customer-transaction-prediction/discussion/80807'>this</a> for using auc as a metric \n",
    "5. You are free to choose any number of layers/hiddden units but you have to use same type of architectures shown below. \n",
    "6. You can use any one of the optimizers and choice of Learning rate and momentum.\n",
    "7. For all the model's use <a href='https://www.youtube.com/watch?v=2U6Jl7oqRkM'>TensorBoard</a> and plot the Metric value and Loss with epoch. While submitting, take a screenshot of plots and include those images in a separate pad and write your observations about them.\n",
    "8. Make sure that you are using GPU to train the given models.\n",
    "</pre>"
   ]
  },
  {
   "cell_type": "code",
   "execution_count": null,
   "metadata": {
    "id": "Ug8WY_E_MKfA"
   },
   "outputs": [],
   "source": [
    "#you can use gdown modules to import dataset for the assignment\n",
    "#for importing any file from drive to Colab you can write the syntax as !gdown --id file_id\n",
    "#you can run the below cell to import the required preprocessed data.csv file and glove vector"
   ]
  },
  {
   "cell_type": "code",
   "execution_count": null,
   "metadata": {
    "colab": {
     "base_uri": "https://localhost:8080/"
    },
    "id": "Azu0PoWDMKfO",
    "outputId": "27bf42a5-7a91-4105-9e2d-15de2c7daf97",
    "scrolled": true
   },
   "outputs": [
    {
     "name": "stdout",
     "output_type": "stream",
     "text": [
      "/usr/local/lib/python3.7/dist-packages/gdown/cli.py:131: FutureWarning: Option `--id` was deprecated in version 4.3.1 and will be removed in 5.0. You don't need to pass it anymore to use a file ID.\n",
      "  category=FutureWarning,\n",
      "Downloading...\n",
      "From: https://drive.google.com/uc?id=1GpATd_pM4mcnWWIs28-s1lgqdAg2Wdv-\n",
      "To: /content/preprocessed_data.csv\n",
      "100% 124M/124M [00:00<00:00, 126MB/s]\n",
      "/usr/local/lib/python3.7/dist-packages/gdown/cli.py:131: FutureWarning: Option `--id` was deprecated in version 4.3.1 and will be removed in 5.0. You don't need to pass it anymore to use a file ID.\n",
      "  category=FutureWarning,\n",
      "Downloading...\n",
      "From: https://drive.google.com/uc?id=1pGd5tLwA30M7wkbJKdXHaae9tYVDICJ_\n",
      "To: /content/glove_vectors\n",
      "100% 128M/128M [00:00<00:00, 155MB/s]\n"
     ]
    }
   ],
   "source": [
    "!gdown --id 1GpATd_pM4mcnWWIs28-s1lgqdAg2Wdv-\n",
    "!gdown --id 1pGd5tLwA30M7wkbJKdXHaae9tYVDICJ_"
   ]
  },
  {
   "cell_type": "code",
   "execution_count": null,
   "metadata": {
    "id": "bnhQxVJnMKfT"
   },
   "outputs": [],
   "source": [
    "import pandas as pd\n",
    "import numpy as np\n",
    "import tensorflow as tf\n",
    "import pdb\n",
    "\n",
    "from keras.models import Sequential\n",
    "from keras.layers import Embedding\n",
    "\n"
   ]
  },
  {
   "cell_type": "code",
   "execution_count": null,
   "metadata": {
    "id": "SWRyoyCzMKfX"
   },
   "outputs": [],
   "source": [
    "data = pd.read_csv(\"preprocessed_data.csv\")"
   ]
  },
  {
   "cell_type": "code",
   "execution_count": null,
   "metadata": {
    "colab": {
     "base_uri": "https://localhost:8080/"
    },
    "id": "Ce5e9EHbMKfe",
    "outputId": "e34238e9-df22-4fb5-ca4a-8df947e418e0"
   },
   "outputs": [
    {
     "name": "stdout",
     "output_type": "stream",
     "text": [
      "<class 'pandas.core.frame.DataFrame'>\n",
      "RangeIndex: 109248 entries, 0 to 109247\n",
      "Data columns (total 9 columns):\n",
      " #   Column                                        Non-Null Count   Dtype  \n",
      "---  ------                                        --------------   -----  \n",
      " 0   school_state                                  109248 non-null  object \n",
      " 1   teacher_prefix                                109248 non-null  object \n",
      " 2   project_grade_category                        109248 non-null  object \n",
      " 3   teacher_number_of_previously_posted_projects  109248 non-null  int64  \n",
      " 4   project_is_approved                           109248 non-null  int64  \n",
      " 5   clean_categories                              109248 non-null  object \n",
      " 6   clean_subcategories                           109248 non-null  object \n",
      " 7   essay                                         109248 non-null  object \n",
      " 8   price                                         109248 non-null  float64\n",
      "dtypes: float64(1), int64(2), object(6)\n",
      "memory usage: 7.5+ MB\n"
     ]
    }
   ],
   "source": [
    "data.info()"
   ]
  },
  {
   "cell_type": "code",
   "execution_count": null,
   "metadata": {
    "colab": {
     "base_uri": "https://localhost:8080/",
     "height": 249
    },
    "id": "rfjmOmwTMKfo",
    "outputId": "b6c4802b-1b4e-44c7-ace4-f1ded4541077"
   },
   "outputs": [
    {
     "data": {
      "text/html": [
       "\n",
       "  <div id=\"df-a9c0dc66-d409-470c-a8eb-105b1f7362af\">\n",
       "    <div class=\"colab-df-container\">\n",
       "      <div>\n",
       "<style scoped>\n",
       "    .dataframe tbody tr th:only-of-type {\n",
       "        vertical-align: middle;\n",
       "    }\n",
       "\n",
       "    .dataframe tbody tr th {\n",
       "        vertical-align: top;\n",
       "    }\n",
       "\n",
       "    .dataframe thead th {\n",
       "        text-align: right;\n",
       "    }\n",
       "</style>\n",
       "<table border=\"1\" class=\"dataframe\">\n",
       "  <thead>\n",
       "    <tr style=\"text-align: right;\">\n",
       "      <th></th>\n",
       "      <th>school_state</th>\n",
       "      <th>teacher_prefix</th>\n",
       "      <th>project_grade_category</th>\n",
       "      <th>teacher_number_of_previously_posted_projects</th>\n",
       "      <th>project_is_approved</th>\n",
       "      <th>clean_categories</th>\n",
       "      <th>clean_subcategories</th>\n",
       "      <th>essay</th>\n",
       "      <th>price</th>\n",
       "    </tr>\n",
       "  </thead>\n",
       "  <tbody>\n",
       "    <tr>\n",
       "      <th>0</th>\n",
       "      <td>ca</td>\n",
       "      <td>mrs</td>\n",
       "      <td>grades_prek_2</td>\n",
       "      <td>53</td>\n",
       "      <td>1</td>\n",
       "      <td>math_science</td>\n",
       "      <td>appliedsciences health_lifescience</td>\n",
       "      <td>i fortunate enough use fairy tale stem kits cl...</td>\n",
       "      <td>725.05</td>\n",
       "    </tr>\n",
       "  </tbody>\n",
       "</table>\n",
       "</div>\n",
       "      <button class=\"colab-df-convert\" onclick=\"convertToInteractive('df-a9c0dc66-d409-470c-a8eb-105b1f7362af')\"\n",
       "              title=\"Convert this dataframe to an interactive table.\"\n",
       "              style=\"display:none;\">\n",
       "        \n",
       "  <svg xmlns=\"http://www.w3.org/2000/svg\" height=\"24px\"viewBox=\"0 0 24 24\"\n",
       "       width=\"24px\">\n",
       "    <path d=\"M0 0h24v24H0V0z\" fill=\"none\"/>\n",
       "    <path d=\"M18.56 5.44l.94 2.06.94-2.06 2.06-.94-2.06-.94-.94-2.06-.94 2.06-2.06.94zm-11 1L8.5 8.5l.94-2.06 2.06-.94-2.06-.94L8.5 2.5l-.94 2.06-2.06.94zm10 10l.94 2.06.94-2.06 2.06-.94-2.06-.94-.94-2.06-.94 2.06-2.06.94z\"/><path d=\"M17.41 7.96l-1.37-1.37c-.4-.4-.92-.59-1.43-.59-.52 0-1.04.2-1.43.59L10.3 9.45l-7.72 7.72c-.78.78-.78 2.05 0 2.83L4 21.41c.39.39.9.59 1.41.59.51 0 1.02-.2 1.41-.59l7.78-7.78 2.81-2.81c.8-.78.8-2.07 0-2.86zM5.41 20L4 18.59l7.72-7.72 1.47 1.35L5.41 20z\"/>\n",
       "  </svg>\n",
       "      </button>\n",
       "      \n",
       "  <style>\n",
       "    .colab-df-container {\n",
       "      display:flex;\n",
       "      flex-wrap:wrap;\n",
       "      gap: 12px;\n",
       "    }\n",
       "\n",
       "    .colab-df-convert {\n",
       "      background-color: #E8F0FE;\n",
       "      border: none;\n",
       "      border-radius: 50%;\n",
       "      cursor: pointer;\n",
       "      display: none;\n",
       "      fill: #1967D2;\n",
       "      height: 32px;\n",
       "      padding: 0 0 0 0;\n",
       "      width: 32px;\n",
       "    }\n",
       "\n",
       "    .colab-df-convert:hover {\n",
       "      background-color: #E2EBFA;\n",
       "      box-shadow: 0px 1px 2px rgba(60, 64, 67, 0.3), 0px 1px 3px 1px rgba(60, 64, 67, 0.15);\n",
       "      fill: #174EA6;\n",
       "    }\n",
       "\n",
       "    [theme=dark] .colab-df-convert {\n",
       "      background-color: #3B4455;\n",
       "      fill: #D2E3FC;\n",
       "    }\n",
       "\n",
       "    [theme=dark] .colab-df-convert:hover {\n",
       "      background-color: #434B5C;\n",
       "      box-shadow: 0px 1px 3px 1px rgba(0, 0, 0, 0.15);\n",
       "      filter: drop-shadow(0px 1px 2px rgba(0, 0, 0, 0.3));\n",
       "      fill: #FFFFFF;\n",
       "    }\n",
       "  </style>\n",
       "\n",
       "      <script>\n",
       "        const buttonEl =\n",
       "          document.querySelector('#df-a9c0dc66-d409-470c-a8eb-105b1f7362af button.colab-df-convert');\n",
       "        buttonEl.style.display =\n",
       "          google.colab.kernel.accessAllowed ? 'block' : 'none';\n",
       "\n",
       "        async function convertToInteractive(key) {\n",
       "          const element = document.querySelector('#df-a9c0dc66-d409-470c-a8eb-105b1f7362af');\n",
       "          const dataTable =\n",
       "            await google.colab.kernel.invokeFunction('convertToInteractive',\n",
       "                                                     [key], {});\n",
       "          if (!dataTable) return;\n",
       "\n",
       "          const docLinkHtml = 'Like what you see? Visit the ' +\n",
       "            '<a target=\"_blank\" href=https://colab.research.google.com/notebooks/data_table.ipynb>data table notebook</a>'\n",
       "            + ' to learn more about interactive tables.';\n",
       "          element.innerHTML = '';\n",
       "          dataTable['output_type'] = 'display_data';\n",
       "          await google.colab.output.renderOutput(dataTable, element);\n",
       "          const docLink = document.createElement('div');\n",
       "          docLink.innerHTML = docLinkHtml;\n",
       "          element.appendChild(docLink);\n",
       "        }\n",
       "      </script>\n",
       "    </div>\n",
       "  </div>\n",
       "  "
      ],
      "text/plain": [
       "  school_state teacher_prefix project_grade_category  \\\n",
       "0           ca            mrs          grades_prek_2   \n",
       "\n",
       "   teacher_number_of_previously_posted_projects  project_is_approved  \\\n",
       "0                                            53                    1   \n",
       "\n",
       "  clean_categories                 clean_subcategories  \\\n",
       "0     math_science  appliedsciences health_lifescience   \n",
       "\n",
       "                                               essay   price  \n",
       "0  i fortunate enough use fairy tale stem kits cl...  725.05  "
      ]
     },
     "execution_count": 8,
     "metadata": {},
     "output_type": "execute_result"
    }
   ],
   "source": [
    "data.head(1)"
   ]
  },
  {
   "cell_type": "code",
   "execution_count": null,
   "metadata": {
    "colab": {
     "base_uri": "https://localhost:8080/"
    },
    "id": "mF3_D8s8MKfz",
    "outputId": "32de3c13-4a22-4724-8942-52a1cb2d809a"
   },
   "outputs": [
    {
     "data": {
      "text/plain": [
       "(array(['ca', 'ut', 'ga', 'wa', 'hi', 'il', 'oh', 'ky', 'sc', 'fl', 'mo',\n",
       "        'mi', 'ny', 'va', 'md', 'tx', 'ms', 'nj', 'az', 'ok', 'pa', 'wv',\n",
       "        'nc', 'co', 'dc', 'ma', 'id', 'al', 'me', 'tn', 'in', 'la', 'ct',\n",
       "        'ar', 'ks', 'or', 'wi', 'ia', 'sd', 'ak', 'mn', 'nm', 'nv', 'mt',\n",
       "        'ri', 'nh', 'wy', 'ne', 'de', 'nd', 'vt'], dtype=object), 51)"
      ]
     },
     "execution_count": 9,
     "metadata": {},
     "output_type": "execute_result"
    }
   ],
   "source": [
    "# checking cardinality of categorical feature\n",
    "\n",
    "data.school_state.unique(), data.school_state.unique().size"
   ]
  },
  {
   "cell_type": "code",
   "execution_count": null,
   "metadata": {
    "colab": {
     "base_uri": "https://localhost:8080/"
    },
    "id": "CKD-KMd7MKf7",
    "outputId": "332008c2-12a8-4de8-ed4e-05f39ae870ec"
   },
   "outputs": [
    {
     "data": {
      "text/plain": [
       "0    1\n",
       "1    1\n",
       "Name: project_is_approved, dtype: int64"
      ]
     },
     "execution_count": 10,
     "metadata": {},
     "output_type": "execute_result"
    }
   ],
   "source": [
    "data_target = data.project_is_approved\n",
    "data_target[:2]"
   ]
  },
  {
   "cell_type": "code",
   "execution_count": null,
   "metadata": {
    "colab": {
     "base_uri": "https://localhost:8080/",
     "height": 266
    },
    "id": "SP3dsPT6MKgA",
    "outputId": "a8c1c50b-25b3-4be0-89fb-1b8655d91d2c"
   },
   "outputs": [
    {
     "data": {
      "text/html": [
       "\n",
       "  <div id=\"df-0e2b8ab1-a063-42fd-8298-b7d45d5148b9\">\n",
       "    <div class=\"colab-df-container\">\n",
       "      <div>\n",
       "<style scoped>\n",
       "    .dataframe tbody tr th:only-of-type {\n",
       "        vertical-align: middle;\n",
       "    }\n",
       "\n",
       "    .dataframe tbody tr th {\n",
       "        vertical-align: top;\n",
       "    }\n",
       "\n",
       "    .dataframe thead th {\n",
       "        text-align: right;\n",
       "    }\n",
       "</style>\n",
       "<table border=\"1\" class=\"dataframe\">\n",
       "  <thead>\n",
       "    <tr style=\"text-align: right;\">\n",
       "      <th></th>\n",
       "      <th>school_state</th>\n",
       "      <th>teacher_prefix</th>\n",
       "      <th>project_grade_category</th>\n",
       "      <th>teacher_number_of_previously_posted_projects</th>\n",
       "      <th>clean_categories</th>\n",
       "      <th>clean_subcategories</th>\n",
       "      <th>essay</th>\n",
       "      <th>price</th>\n",
       "    </tr>\n",
       "  </thead>\n",
       "  <tbody>\n",
       "    <tr>\n",
       "      <th>18712</th>\n",
       "      <td>nc</td>\n",
       "      <td>mr</td>\n",
       "      <td>grades_3_5</td>\n",
       "      <td>0</td>\n",
       "      <td>history_civics literacy_language</td>\n",
       "      <td>civics_government literacy</td>\n",
       "      <td>the students school special many ways they cre...</td>\n",
       "      <td>5.25</td>\n",
       "    </tr>\n",
       "  </tbody>\n",
       "</table>\n",
       "</div>\n",
       "      <button class=\"colab-df-convert\" onclick=\"convertToInteractive('df-0e2b8ab1-a063-42fd-8298-b7d45d5148b9')\"\n",
       "              title=\"Convert this dataframe to an interactive table.\"\n",
       "              style=\"display:none;\">\n",
       "        \n",
       "  <svg xmlns=\"http://www.w3.org/2000/svg\" height=\"24px\"viewBox=\"0 0 24 24\"\n",
       "       width=\"24px\">\n",
       "    <path d=\"M0 0h24v24H0V0z\" fill=\"none\"/>\n",
       "    <path d=\"M18.56 5.44l.94 2.06.94-2.06 2.06-.94-2.06-.94-.94-2.06-.94 2.06-2.06.94zm-11 1L8.5 8.5l.94-2.06 2.06-.94-2.06-.94L8.5 2.5l-.94 2.06-2.06.94zm10 10l.94 2.06.94-2.06 2.06-.94-2.06-.94-.94-2.06-.94 2.06-2.06.94z\"/><path d=\"M17.41 7.96l-1.37-1.37c-.4-.4-.92-.59-1.43-.59-.52 0-1.04.2-1.43.59L10.3 9.45l-7.72 7.72c-.78.78-.78 2.05 0 2.83L4 21.41c.39.39.9.59 1.41.59.51 0 1.02-.2 1.41-.59l7.78-7.78 2.81-2.81c.8-.78.8-2.07 0-2.86zM5.41 20L4 18.59l7.72-7.72 1.47 1.35L5.41 20z\"/>\n",
       "  </svg>\n",
       "      </button>\n",
       "      \n",
       "  <style>\n",
       "    .colab-df-container {\n",
       "      display:flex;\n",
       "      flex-wrap:wrap;\n",
       "      gap: 12px;\n",
       "    }\n",
       "\n",
       "    .colab-df-convert {\n",
       "      background-color: #E8F0FE;\n",
       "      border: none;\n",
       "      border-radius: 50%;\n",
       "      cursor: pointer;\n",
       "      display: none;\n",
       "      fill: #1967D2;\n",
       "      height: 32px;\n",
       "      padding: 0 0 0 0;\n",
       "      width: 32px;\n",
       "    }\n",
       "\n",
       "    .colab-df-convert:hover {\n",
       "      background-color: #E2EBFA;\n",
       "      box-shadow: 0px 1px 2px rgba(60, 64, 67, 0.3), 0px 1px 3px 1px rgba(60, 64, 67, 0.15);\n",
       "      fill: #174EA6;\n",
       "    }\n",
       "\n",
       "    [theme=dark] .colab-df-convert {\n",
       "      background-color: #3B4455;\n",
       "      fill: #D2E3FC;\n",
       "    }\n",
       "\n",
       "    [theme=dark] .colab-df-convert:hover {\n",
       "      background-color: #434B5C;\n",
       "      box-shadow: 0px 1px 3px 1px rgba(0, 0, 0, 0.15);\n",
       "      filter: drop-shadow(0px 1px 2px rgba(0, 0, 0, 0.3));\n",
       "      fill: #FFFFFF;\n",
       "    }\n",
       "  </style>\n",
       "\n",
       "      <script>\n",
       "        const buttonEl =\n",
       "          document.querySelector('#df-0e2b8ab1-a063-42fd-8298-b7d45d5148b9 button.colab-df-convert');\n",
       "        buttonEl.style.display =\n",
       "          google.colab.kernel.accessAllowed ? 'block' : 'none';\n",
       "\n",
       "        async function convertToInteractive(key) {\n",
       "          const element = document.querySelector('#df-0e2b8ab1-a063-42fd-8298-b7d45d5148b9');\n",
       "          const dataTable =\n",
       "            await google.colab.kernel.invokeFunction('convertToInteractive',\n",
       "                                                     [key], {});\n",
       "          if (!dataTable) return;\n",
       "\n",
       "          const docLinkHtml = 'Like what you see? Visit the ' +\n",
       "            '<a target=\"_blank\" href=https://colab.research.google.com/notebooks/data_table.ipynb>data table notebook</a>'\n",
       "            + ' to learn more about interactive tables.';\n",
       "          element.innerHTML = '';\n",
       "          dataTable['output_type'] = 'display_data';\n",
       "          await google.colab.output.renderOutput(dataTable, element);\n",
       "          const docLink = document.createElement('div');\n",
       "          docLink.innerHTML = docLinkHtml;\n",
       "          element.appendChild(docLink);\n",
       "        }\n",
       "      </script>\n",
       "    </div>\n",
       "  </div>\n",
       "  "
      ],
      "text/plain": [
       "      school_state teacher_prefix project_grade_category  \\\n",
       "18712           nc             mr             grades_3_5   \n",
       "\n",
       "       teacher_number_of_previously_posted_projects  \\\n",
       "18712                                             0   \n",
       "\n",
       "                       clean_categories         clean_subcategories  \\\n",
       "18712  history_civics literacy_language  civics_government literacy   \n",
       "\n",
       "                                                   essay  price  \n",
       "18712  the students school special many ways they cre...   5.25  "
      ]
     },
     "execution_count": 11,
     "metadata": {},
     "output_type": "execute_result"
    }
   ],
   "source": [
    "data = data.drop('project_is_approved', axis=1)\n",
    "data.sample()"
   ]
  },
  {
   "cell_type": "markdown",
   "metadata": {
    "id": "9n9jEwDxMKgL"
   },
   "source": [
    "## <font color='red'> Model-1 </font>\n",
    "Build and Train deep neural network as shown below"
   ]
  },
  {
   "cell_type": "markdown",
   "metadata": {
    "id": "uIHBIplAMKgR"
   },
   "source": [
    "<img src='https://i.imgur.com/w395Yk9.png'>\n",
    "ref: https://i.imgur.com/w395Yk9.png"
   ]
  },
  {
   "cell_type": "markdown",
   "metadata": {
    "id": "3Z6hZE8AMKgT"
   },
   "source": [
    "- __Input_seq_total_text_data__ --- You have to give Total text data columns. After this use the Embedding layer to get word vectors. Use given predefined glove word vectors, don't train any word vectors. After this use LSTM and get the LSTM output and Flatten that output. \n",
    "- __Input_school_state__ --- Give 'school_state' column as input to embedding layer and Train the Keras Embedding layer. \n",
    "- __Project_grade_category__  --- Give 'project_grade_category' column as input to embedding layer and Train the Keras Embedding layer.\n",
    "- __Input_clean_categories__ --- Give 'input_clean_categories' column as input to embedding layer and Train the Keras Embedding layer.\n",
    "- __Input_clean_subcategories__ --- Give 'input_clean_subcategories' column as input to embedding layer and Train the Keras Embedding layer.\n",
    "- __Input_clean_subcategories__ --- Give 'input_teacher_prefix' column as input to embedding layer and Train the Keras Embedding layer.\n",
    "- __Input_remaining_teacher_number_of_previously_posted_projects._resource_summary_contains_numerical_digits._price._quantity__ ---concatenate remaining columns and add a Dense layer after that. \n",
    "\n"
   ]
  },
  {
   "cell_type": "markdown",
   "metadata": {
    "id": "MT0uXsTgMKga"
   },
   "source": [
    "Below is an example of embedding layer for a categorical columns. In below code all are dummy values, we gave only for referance. "
   ]
  },
  {
   "cell_type": "markdown",
   "metadata": {
    "id": "gPzQXf6CMKgk"
   },
   "source": [
    "how emebedding is working \n",
    "![image.png](attachment:image.png)\n",
    "ref: https://keras.io/api/layers/core_layers/embedding/"
   ]
  },
  {
   "cell_type": "code",
   "execution_count": null,
   "metadata": {
    "id": "NsEzjtsZMKgn"
   },
   "outputs": [],
   "source": [
    "import numpy as np\n",
    "import pandas as pd\n",
    "import matplotlib.pyplot as plt\n",
    "\n",
    "\n",
    "from sklearn.model_selection import train_test_split\n",
    "\n",
    "import tensorflow as tf\n",
    "from keras.preprocessing.text import one_hot\n",
    "from tensorflow.keras.preprocessing.sequence import pad_sequences\n",
    "from tensorflow.keras.models import Sequential\n",
    "from sklearn.preprocessing import StandardScaler\n",
    "from sklearn.preprocessing import LabelEncoder\n",
    "\n",
    "\n",
    "from tensorflow.keras.preprocessing.text import Tokenizer\n",
    "# from tensorflow.keras.utils import pad_sequences\n",
    "\n",
    "from tensorflow.keras.layers import Embedding\n",
    "from tensorflow.keras.layers import Dense,Input,Conv2D,MaxPool2D,Activation,Dropout,Flatten,MaxPooling2D,LSTM\n",
    "from tensorflow.keras.models import Model\n",
    "from tensorflow.keras import layers\n",
    "\n",
    "from sklearn.metrics import roc_auc_score\n",
    "import tensorflow.keras.backend as K\n",
    "\n",
    "from tensorflow.keras.callbacks import Callback\n",
    "\n",
    "import pickle\n",
    "import random as rn\n"
   ]
  },
  {
   "cell_type": "code",
   "execution_count": null,
   "metadata": {
    "colab": {
     "base_uri": "https://localhost:8080/"
    },
    "id": "AmqneihbMKgp",
    "outputId": "9a36b082-2c97-42c1-b1b5-6926e20d623c"
   },
   "outputs": [
    {
     "data": {
      "text/plain": [
       "array([[[ 0.04779742],\n",
       "        [ 0.01750464],\n",
       "        [-0.01587401],\n",
       "        [-0.01587401],\n",
       "        [-0.01587401]]], dtype=float32)"
      ]
     },
     "execution_count": 13,
     "metadata": {},
     "output_type": "execute_result"
    }
   ],
   "source": [
    "# example  of embedding\n",
    "\n",
    "model = Sequential()\n",
    "model.add(Embedding(5, 1, input_length=5))\n",
    "\n",
    "input_array = np.random.randint(5, size=(1, 5))\n",
    "\n",
    "model.compile('rmsprop', 'mse')\n",
    "\n",
    "input_array = [[4,1,3,3,3]]\n",
    "output_array = model.predict(input_array)\n",
    "output_array"
   ]
  },
  {
   "cell_type": "markdown",
   "metadata": {
    "id": "tdgX48w3MKgt"
   },
   "source": [
    " 1. Go through this blog, if you have any doubt on using predefined Embedding values in Embedding layer - https://machinelearningmastery.com/use-word-embedding-layers-deep-learning-keras/\n",
    " 2. Please go through this link https://keras.io/getting-started/functional-api-guide/ and check the 'Multi-input and multi-output models' then you will get to know how to give multiple inputs. "
   ]
  },
  {
   "cell_type": "markdown",
   "metadata": {
    "id": "X34xVI69MKgz"
   },
   "source": [
    "# <font color='red'> Model-1 </font>"
   ]
  },
  {
   "cell_type": "markdown",
   "metadata": {
    "id": "_iK6nyO2A6Sp"
   },
   "source": [
    " ### train--cv--test Split your data."
   ]
  },
  {
   "cell_type": "code",
   "execution_count": null,
   "metadata": {
    "colab": {
     "base_uri": "https://localhost:8080/"
    },
    "id": "TT1l_B9GMKg0",
    "outputId": "bd1584c7-121f-48d2-c595-8494752f0e7f"
   },
   "outputs": [
    {
     "data": {
      "text/plain": [
       "((87398, 8), (69918, 8), (17480, 8))"
      ]
     },
     "execution_count": 14,
     "metadata": {},
     "output_type": "execute_result"
    }
   ],
   "source": [
    "# 2. Split your data.\n",
    "\n",
    "X,X_test,Y,y_test = train_test_split(data,data_target,test_size=.20, train_size=.8, stratify = data_target)\n",
    "X_train,X_cv,y_train,y_cv = train_test_split(X,Y,test_size=.2, train_size=.8)\n",
    "\n",
    "X.shape, X_train.shape, X_cv.shape"
   ]
  },
  {
   "cell_type": "markdown",
   "metadata": {
    "id": "PKrWQdHbMKg4"
   },
   "source": [
    "## 1.1 Text Vectorization"
   ]
  },
  {
   "cell_type": "code",
   "execution_count": null,
   "metadata": {
    "id": "hpjpD1rdMKg6"
   },
   "outputs": [],
   "source": [
    "#since the data is already preprocessed, we can directly move to vectorization part\n",
    "#first we will vectorize the text data\n",
    "#for vectorization of text data in deep learning we use tokenizer, you can go through below references\n",
    "# https://www.kdnuggets.com/2020/03/tensorflow-keras-tokenization-text-data-prep.html\n",
    "#https://stackoverflow.com/questions/51956000/what-does-keras-tokenizer-method-exactly-do\n",
    "# after text vectorization you should get train_padded_docs and test_padded_docs"
   ]
  },
  {
   "cell_type": "code",
   "execution_count": null,
   "metadata": {
    "colab": {
     "base_uri": "https://localhost:8080/"
    },
    "id": "O4xmEvO6MKg9",
    "outputId": "a7456007-7466-416d-ada1-da7ccb95f8eb"
   },
   "outputs": [
    {
     "data": {
      "text/plain": [
       "46090     my school urban district materials bought pock...\n",
       "95757     our kids come high poverty area need many diff...\n",
       "21848     i teach kindergarten low income high poverty a...\n",
       "51990     students community eager excited learn each mo...\n",
       "77771     the artists classroom living neighborhood high...\n",
       "                                ...                        \n",
       "20227     differentiating instruction important students...\n",
       "103515    basic classroom supplies essential thriving le...\n",
       "59878     students room frequently struggle able remain ...\n",
       "3241      i three grade levels therefore i strive make b...\n",
       "9556      my students wonderful little people they energ...\n",
       "Name: essay, Length: 69918, dtype: object"
      ]
     },
     "execution_count": 16,
     "metadata": {},
     "output_type": "execute_result"
    }
   ],
   "source": [
    "X_train.essay"
   ]
  },
  {
   "cell_type": "code",
   "execution_count": null,
   "metadata": {
    "id": "w92uAC_FMKhA"
   },
   "outputs": [],
   "source": [
    "\n",
    "vocab_size =  50000 # hypertuning\n",
    "oov_token = '<UNK>'\n",
    "pad_type = 'post'\n",
    "trunc_type = 'post'\n",
    "\n",
    "tokenizer = Tokenizer(num_words=vocab_size, oov_token=oov_token)\n",
    "tokenizer.fit_on_texts(X_train.essay)\n",
    "word_corpus = tokenizer.word_index\n",
    "\n",
    "# Encode training data sentences into sequences\n",
    "essay_sequences = tokenizer.texts_to_sequences(X_train.essay)\n",
    "essay_sequences_cv = tokenizer.texts_to_sequences(X_cv.essay)\n",
    "essay_sequences_te = tokenizer.texts_to_sequences(X_test.essay)\n",
    "\n",
    "maxlen = max([len(x) for x in essay_sequences])\n",
    "maxlen2 = max([len(x) for x in essay_sequences_cv])\n",
    "maxlen3 = max([len(x) for x in essay_sequences_te])\n",
    "\n",
    "# Pad the training sequences\n",
    "text_padded = pad_sequences(essay_sequences, padding=pad_type, truncating=trunc_type, maxlen=maxlen)\n",
    "text_padded_cv = pad_sequences(essay_sequences_cv, padding=pad_type, truncating=trunc_type, maxlen=maxlen)\n",
    "text_padded_te = pad_sequences(essay_sequences_te, padding=pad_type, truncating=trunc_type, maxlen=maxlen)\n"
   ]
  },
  {
   "cell_type": "code",
   "execution_count": null,
   "metadata": {
    "colab": {
     "base_uri": "https://localhost:8080/"
    },
    "id": "sxlvTJ_jMKhC",
    "outputId": "44cebee2-15d8-45c9-8596-a18d2b2ef2f9"
   },
   "outputs": [
    {
     "name": "stdout",
     "output_type": "stream",
     "text": [
      "[5, 4, 473, 172, 43, 3012, 1855, 5, 2, 587, 1175, 445, 972, 6, 8, 6, 82, 685, 201, 365, 477, 2, 376, 39, 43, 10, 713, 2, 1722, 104, 61, 29, 2, 16, 590, 7, 1040, 4027, 676, 383, 323, 853, 4, 357, 721, 285, 2, 10, 67, 43, 1040, 170, 16, 126, 39, 227, 713, 2, 2206, 298, 7, 227, 19, 4990, 331, 1038, 47, 1489, 642, 1850, 227, 1214, 584, 2, 3772, 6, 572, 2627, 737, 1346, 5, 2, 19, 227, 572, 2242, 12, 209, 70, 263, 91, 2792, 13, 432, 1630, 2, 1083, 1241, 140, 160, 28, 3, 399, 54, 3, 2719, 1241, 160, 312, 2911, 1241, 753, 170, 1783, 1833, 2, 8, 6535, 262, 292, 2, 67, 96, 169, 677, 4, 14]\n",
      "(69918, 339)\n"
     ]
    }
   ],
   "source": [
    "print(essay_sequences[0])\n",
    "print(text_padded.shape)\n",
    "# tokenizer.word_index"
   ]
  },
  {
   "cell_type": "code",
   "execution_count": null,
   "metadata": {
    "id": "jb6rnjPOMKhF"
   },
   "outputs": [],
   "source": [
    "# after getting the padded_docs you have to use predefined glove vectors to get 300 dim representation for each word\n",
    "# we will be storing this data in form of an embedding matrix and will use it while defining our model\n",
    "# Please go through following blog's 'Example of Using Pre-Trained GloVe Embedding' section to understand how to create embedding matrix\n",
    "# https://machinelearningmastery.com/use-word-embedding-layers-deep-learning-keras/\n",
    "\n"
   ]
  },
  {
   "cell_type": "code",
   "execution_count": null,
   "metadata": {
    "colab": {
     "base_uri": "https://localhost:8080/"
    },
    "id": "a24mvU6bMKhH",
    "outputId": "ce3ca3f1-4ac9-4dbd-9fc6-e89dd1d1a748"
   },
   "outputs": [
    {
     "name": "stdout",
     "output_type": "stream",
     "text": [
      "Loaded 51510 word vectors.\n"
     ]
    }
   ],
   "source": [
    "# load glove vectors\n",
    "\n",
    "\n",
    "with open('glove_vectors', 'rb') as f:\n",
    "    dict_glove_vectors = pickle.load(f)\n",
    "\n",
    "print('Loaded %s word vectors.' % len(dict_glove_vectors))\n",
    "f.close()"
   ]
  },
  {
   "cell_type": "code",
   "execution_count": null,
   "metadata": {
    "id": "tbEOvxjyMKhL"
   },
   "outputs": [],
   "source": [
    "vocab_size = len(tokenizer.word_index)+1 # 51671\n",
    "\n",
    "# create a weight matrix for words in training docs\n",
    "embedding_matrix = np.zeros((vocab_size, 300))\n",
    "\n",
    "for word, i in tokenizer.word_index.items():\n",
    "    embedding_vector = dict_glove_vectors.get(word)\n",
    "    \n",
    "    if embedding_vector is not None:\n",
    "        embedding_matrix[i] = embedding_vector\n",
    "        \n"
   ]
  },
  {
   "cell_type": "code",
   "execution_count": null,
   "metadata": {
    "colab": {
     "base_uri": "https://localhost:8080/"
    },
    "id": "Qew7aorOMKhN",
    "outputId": "44994237-d0bb-4cbf-82f4-4761bda821a0",
    "scrolled": true
   },
   "outputs": [
    {
     "data": {
      "text/plain": [
       "(47385, 300)"
      ]
     },
     "execution_count": 24,
     "metadata": {},
     "output_type": "execute_result"
    }
   ],
   "source": [
    "# 300-dim vector for all unique word in the corpus\n",
    "embedding_matrix.shape"
   ]
  },
  {
   "cell_type": "markdown",
   "metadata": {
    "id": "TBonulbJMKhS"
   },
   "source": [
    "## 1.2 Categorical feature Vectorization"
   ]
  },
  {
   "cell_type": "code",
   "execution_count": null,
   "metadata": {
    "id": "IoilUzoOMKhT"
   },
   "outputs": [],
   "source": [
    "# for model 1 and model 2, we have to assign a unique number to each feature in a particular categorical column.\n",
    "# you can either use tokenizer,label encoder or ordinal encoder to perform the task\n",
    "# label encoder gives an error for 'unseen values' (values present in test but not in train)\n",
    "# handle unseen values with label encoder - https://stackoverflow.com/a/56876351\n",
    "# ordinal encoder also gives error with unseen values but you can use modify handle_unknown parameter\n",
    "# documentation of ordianl encoder https://scikit-learn.org/stable/modules/generated/sklearn.preprocessing.OrdinalEncoder.html\n",
    "# after categorical feature vectorization you will have column_train_data and column_test_data.\n"
   ]
  },
  {
   "cell_type": "markdown",
   "metadata": {
    "id": "3SKW2ggeMKhV"
   },
   "source": [
    " **categorical feature** - school_state,  teacher_prefix, project_grade_category, clean_categories, clean_subcategories \n",
    " "
   ]
  },
  {
   "cell_type": "code",
   "execution_count": null,
   "metadata": {
    "colab": {
     "base_uri": "https://localhost:8080/"
    },
    "id": "r_NEedFMMKhX",
    "outputId": "e477cbdf-5aa8-456f-adc2-0d58ee088524"
   },
   "outputs": [
    {
     "data": {
      "text/plain": [
       "([26], [3])"
      ]
     },
     "execution_count": 26,
     "metadata": {},
     "output_type": "execute_result"
    }
   ],
   "source": [
    "\n",
    "# state cate\n",
    "vocab_size = X_train.school_state.unique().size\n",
    "\n",
    "tokenizer = Tokenizer(num_words=vocab_size, oov_token=oov_token)\n",
    "tokenizer.fit_on_texts(X_train.school_state)\n",
    "\n",
    "# Encode data sentences into sequences\n",
    "state_seq = tokenizer.texts_to_sequences(X_train.school_state)\n",
    "state_seq_cv = tokenizer.texts_to_sequences(X_cv.school_state)\n",
    "state_seq_te = tokenizer.texts_to_sequences(X_test.school_state)\n",
    "\n",
    "# teacher_prefix\n",
    "vocab_size = X_train.teacher_prefix.unique().size\n",
    "\n",
    "tokenizer = Tokenizer(num_words=vocab_size, oov_token=oov_token)\n",
    "tokenizer.fit_on_texts(X_train.teacher_prefix)\n",
    "\n",
    "# Encode data sentences into sequences\n",
    "tea_seq = tokenizer.texts_to_sequences(X_train.teacher_prefix)\n",
    "tea_seq_cv = tokenizer.texts_to_sequences(X_cv.teacher_prefix)\n",
    "tea_seq_te = tokenizer.texts_to_sequences(X_test.teacher_prefix)\n",
    "\n",
    "\n",
    "# state_seq,tea_seq, grade_seq, cate_seq, sub_cate_seqstate_seq\n",
    "state_seq[0],tea_seq[0]"
   ]
  },
  {
   "cell_type": "code",
   "execution_count": null,
   "metadata": {
    "colab": {
     "base_uri": "https://localhost:8080/"
    },
    "id": "xSGL4IVKIyx7",
    "outputId": "076e71c9-b94b-419f-baa1-bfc9efb15fa4"
   },
   "outputs": [
    {
     "data": {
      "text/plain": [
       "(17480,)"
      ]
     },
     "execution_count": 27,
     "metadata": {},
     "output_type": "execute_result"
    }
   ],
   "source": [
    "len(tea_seq_cv), "
   ]
  },
  {
   "cell_type": "markdown",
   "metadata": {
    "id": "HMZC5Yk8MKhd"
   },
   "source": [
    "defining class for handling unseen data in LabelEncoderExt"
   ]
  },
  {
   "cell_type": "code",
   "execution_count": null,
   "metadata": {
    "id": "iaKgGMngMKhf"
   },
   "outputs": [],
   "source": [
    "\n",
    "\n",
    "\n",
    "class LabelEncoderExt(object):\n",
    "    def __init__(self):\n",
    "        \"\"\"\n",
    "        It differs from LabelEncoder by handling new classes and providing a value for it [Unknown]\n",
    "        Unknown will be added in fit and transform will take care of new item. It gives unknown class id\n",
    "        \"\"\"\n",
    "        self.label_encoder = LabelEncoder()\n",
    "        # self.classes_ = self.label_encoder.classes_\n",
    "\n",
    "    def fit(self, data_list):\n",
    "        \"\"\"\n",
    "        This will fit the encoder for all the unique values and introduce unknown value\n",
    "        :param data_list: A list of string\n",
    "        :return: self\n",
    "        \"\"\"\n",
    "        self.label_encoder = self.label_encoder.fit(list(data_list) + ['Unknown'])\n",
    "        self.classes_ = self.label_encoder.classes_\n",
    "\n",
    "        return self\n",
    "\n",
    "    def transform(self, data_list):\n",
    "        \"\"\"\n",
    "        This will transform the data_list to id list where the new values get assigned to Unknown class\n",
    "        :param data_list:\n",
    "        :return:\n",
    "        \"\"\"\n",
    "        new_data_list = list(data_list)\n",
    "        for unique_item in np.unique(data_list):\n",
    "            if unique_item not in self.label_encoder.classes_:\n",
    "                new_data_list = ['Unknown' if x==unique_item else x for x in new_data_list]\n",
    "\n",
    "        return self.label_encoder.transform(new_data_list)\n",
    "\n"
   ]
  },
  {
   "cell_type": "code",
   "execution_count": null,
   "metadata": {
    "colab": {
     "base_uri": "https://localhost:8080/"
    },
    "id": "-uz2ytahMKhj",
    "outputId": "dad089fe-d037-48d6-b047-91125d6a1796"
   },
   "outputs": [
    {
     "data": {
      "text/plain": [
       "(47, 378, 4)"
      ]
     },
     "execution_count": 29,
     "metadata": {},
     "output_type": "execute_result"
    }
   ],
   "source": [
    "\n",
    "\n",
    "\n",
    "# clean_categories\n",
    "\n",
    "vocab_size = X_train.clean_categories.unique().size\n",
    "\n",
    "Label_Encoder = LabelEncoderExt()\n",
    "Label_Encoder.fit(X_train.clean_categories)\n",
    "# Encode data sentences into sequences\n",
    "cate_seq = Label_Encoder.transform(X_train.clean_categories)\n",
    "cate_seq_cv = Label_Encoder.transform(X_cv.clean_categories)\n",
    "cate_seq_te = Label_Encoder.transform(X_test.clean_categories)\n",
    "\n",
    "\n",
    "\n",
    "# clean_subcategories\n",
    "\n",
    "vocab_size = X_train.clean_subcategories.unique().size\n",
    "\n",
    "Label_Encoder = LabelEncoderExt()\n",
    "Label_Encoder.fit(X_train.clean_subcategories)\n",
    "# Encode data sentences into sequences\n",
    "sub_cate_seq = Label_Encoder.transform(X_train.clean_subcategories)\n",
    "sub_cate_seq_cv = Label_Encoder.transform(X_cv.clean_subcategories)\n",
    "sub_cate_seq_te = Label_Encoder.transform(X_test.clean_subcategories)\n",
    "\n",
    "\n",
    "# project_grade_category\n",
    "\n",
    "vocab_size = X_train.project_grade_category.unique().size\n",
    "\n",
    "Label_Encoder = LabelEncoderExt()\n",
    "Label_Encoder.fit(X_train.project_grade_category)\n",
    "\n",
    "# Encode data sentences into sequences\n",
    "grade_seq = Label_Encoder.transform(X_train.project_grade_category)\n",
    "grade_seq_cv = Label_Encoder.transform(X_cv.project_grade_category)\n",
    "grade_seq_te = Label_Encoder.transform(X_test.project_grade_category)\n",
    "\n",
    "\n",
    "\n",
    "\n",
    "cate_seq[0], sub_cate_seq[0], grade_seq[0]"
   ]
  },
  {
   "cell_type": "code",
   "execution_count": null,
   "metadata": {
    "colab": {
     "base_uri": "https://localhost:8080/"
    },
    "id": "PVewjdFbIMa1",
    "outputId": "b47dd03c-447e-4f6f-ba96-10c72cd68dec"
   },
   "outputs": [
    {
     "data": {
      "text/plain": [
       "((69918,), (69918,), (69918,), (17480,), (17480,), (17480,), 17480, (17480,))"
      ]
     },
     "execution_count": 30,
     "metadata": {},
     "output_type": "execute_result"
    }
   ],
   "source": [
    "cate_seq.shape, sub_cate_seq.shape, grade_seq.shape, cate_seq_cv.shape, sub_cate_seq_cv.shape, grade_seq_cv.shape, len(tea_seq_cv), sub_cate_seq_cv.shape\n",
    "\n"
   ]
  },
  {
   "cell_type": "code",
   "execution_count": null,
   "metadata": {
    "id": "SJ-gdhKOMKhl"
   },
   "outputs": [],
   "source": [
    "column_train_data = pd.DataFrame({\"state\" : state_seq, \"project_grade_cate\": grade_seq, \"input_cate\":cate_seq, \n",
    "                                  \"teacher_pre\": tea_seq,\"input_sub_cate\": sub_cate_seq })\n",
    "column_cv_data = pd.DataFrame({\"state\" : state_seq_cv, \"project_grade_cate\": grade_seq_cv, \"input_cate\":cate_seq_cv, \n",
    "                                  \"teacher_pre\": tea_seq_cv,\"input_sub_cate\": sub_cate_seq_cv })\n",
    "\n",
    "column_test_data = pd.DataFrame({\"state\" : state_seq_te, \"project_grade_cate\": grade_seq_te, \"input_cate\":cate_seq_te, \n",
    "                                  \"teacher_pre\": tea_seq_te,\"input_sub_cate\": sub_cate_seq_te })\n",
    "\n"
   ]
  },
  {
   "cell_type": "code",
   "execution_count": null,
   "metadata": {
    "id": "hrIdOvj5MKho"
   },
   "outputs": [],
   "source": [
    "# convert list to int\n",
    "column_train_data[\"state\"] = column_train_data[\"state\"].apply(lambda x: x[0])\n",
    "column_train_data[\"teacher_pre\"] = column_train_data[\"teacher_pre\"].apply(lambda x: x[0])\n",
    "\n",
    "column_cv_data[\"state\"] = column_cv_data[\"state\"].apply(lambda x: x[0])\n",
    "column_cv_data[\"teacher_pre\"] = column_cv_data[\"teacher_pre\"].apply(lambda x: x[0])\n",
    "\n",
    "column_test_data[\"state\"] = column_test_data[\"state\"].apply(lambda x: x[0])\n",
    "column_test_data[\"teacher_pre\"] = column_test_data[\"teacher_pre\"].apply(lambda x: x[0])"
   ]
  },
  {
   "cell_type": "code",
   "execution_count": null,
   "metadata": {
    "colab": {
     "base_uri": "https://localhost:8080/"
    },
    "id": "g72DaCIEMKhr",
    "outputId": "f6eb250e-4917-494c-df01-a1dda23abf64"
   },
   "outputs": [
    {
     "data": {
      "text/html": [
       "\n",
       "  <div id=\"df-86672610-13fa-448d-a96b-da57ba711c31\">\n",
       "    <div class=\"colab-df-container\">\n",
       "      <div>\n",
       "<style scoped>\n",
       "    .dataframe tbody tr th:only-of-type {\n",
       "        vertical-align: middle;\n",
       "    }\n",
       "\n",
       "    .dataframe tbody tr th {\n",
       "        vertical-align: top;\n",
       "    }\n",
       "\n",
       "    .dataframe thead th {\n",
       "        text-align: right;\n",
       "    }\n",
       "</style>\n",
       "<table border=\"1\" class=\"dataframe\">\n",
       "  <thead>\n",
       "    <tr style=\"text-align: right;\">\n",
       "      <th></th>\n",
       "      <th>state</th>\n",
       "      <th>project_grade_cate</th>\n",
       "      <th>input_cate</th>\n",
       "      <th>teacher_pre</th>\n",
       "      <th>input_sub_cate</th>\n",
       "    </tr>\n",
       "  </thead>\n",
       "  <tbody>\n",
       "    <tr>\n",
       "      <th>0</th>\n",
       "      <td>26</td>\n",
       "      <td>4</td>\n",
       "      <td>47</td>\n",
       "      <td>3</td>\n",
       "      <td>378</td>\n",
       "    </tr>\n",
       "    <tr>\n",
       "      <th>1</th>\n",
       "      <td>2</td>\n",
       "      <td>3</td>\n",
       "      <td>9</td>\n",
       "      <td>3</td>\n",
       "      <td>259</td>\n",
       "    </tr>\n",
       "    <tr>\n",
       "      <th>2</th>\n",
       "      <td>5</td>\n",
       "      <td>4</td>\n",
       "      <td>9</td>\n",
       "      <td>2</td>\n",
       "      <td>278</td>\n",
       "    </tr>\n",
       "    <tr>\n",
       "      <th>3</th>\n",
       "      <td>9</td>\n",
       "      <td>4</td>\n",
       "      <td>25</td>\n",
       "      <td>2</td>\n",
       "      <td>307</td>\n",
       "    </tr>\n",
       "    <tr>\n",
       "      <th>4</th>\n",
       "      <td>4</td>\n",
       "      <td>4</td>\n",
       "      <td>49</td>\n",
       "      <td>2</td>\n",
       "      <td>380</td>\n",
       "    </tr>\n",
       "  </tbody>\n",
       "</table>\n",
       "</div>\n",
       "      <button class=\"colab-df-convert\" onclick=\"convertToInteractive('df-86672610-13fa-448d-a96b-da57ba711c31')\"\n",
       "              title=\"Convert this dataframe to an interactive table.\"\n",
       "              style=\"display:none;\">\n",
       "        \n",
       "  <svg xmlns=\"http://www.w3.org/2000/svg\" height=\"24px\"viewBox=\"0 0 24 24\"\n",
       "       width=\"24px\">\n",
       "    <path d=\"M0 0h24v24H0V0z\" fill=\"none\"/>\n",
       "    <path d=\"M18.56 5.44l.94 2.06.94-2.06 2.06-.94-2.06-.94-.94-2.06-.94 2.06-2.06.94zm-11 1L8.5 8.5l.94-2.06 2.06-.94-2.06-.94L8.5 2.5l-.94 2.06-2.06.94zm10 10l.94 2.06.94-2.06 2.06-.94-2.06-.94-.94-2.06-.94 2.06-2.06.94z\"/><path d=\"M17.41 7.96l-1.37-1.37c-.4-.4-.92-.59-1.43-.59-.52 0-1.04.2-1.43.59L10.3 9.45l-7.72 7.72c-.78.78-.78 2.05 0 2.83L4 21.41c.39.39.9.59 1.41.59.51 0 1.02-.2 1.41-.59l7.78-7.78 2.81-2.81c.8-.78.8-2.07 0-2.86zM5.41 20L4 18.59l7.72-7.72 1.47 1.35L5.41 20z\"/>\n",
       "  </svg>\n",
       "      </button>\n",
       "      \n",
       "  <style>\n",
       "    .colab-df-container {\n",
       "      display:flex;\n",
       "      flex-wrap:wrap;\n",
       "      gap: 12px;\n",
       "    }\n",
       "\n",
       "    .colab-df-convert {\n",
       "      background-color: #E8F0FE;\n",
       "      border: none;\n",
       "      border-radius: 50%;\n",
       "      cursor: pointer;\n",
       "      display: none;\n",
       "      fill: #1967D2;\n",
       "      height: 32px;\n",
       "      padding: 0 0 0 0;\n",
       "      width: 32px;\n",
       "    }\n",
       "\n",
       "    .colab-df-convert:hover {\n",
       "      background-color: #E2EBFA;\n",
       "      box-shadow: 0px 1px 2px rgba(60, 64, 67, 0.3), 0px 1px 3px 1px rgba(60, 64, 67, 0.15);\n",
       "      fill: #174EA6;\n",
       "    }\n",
       "\n",
       "    [theme=dark] .colab-df-convert {\n",
       "      background-color: #3B4455;\n",
       "      fill: #D2E3FC;\n",
       "    }\n",
       "\n",
       "    [theme=dark] .colab-df-convert:hover {\n",
       "      background-color: #434B5C;\n",
       "      box-shadow: 0px 1px 3px 1px rgba(0, 0, 0, 0.15);\n",
       "      filter: drop-shadow(0px 1px 2px rgba(0, 0, 0, 0.3));\n",
       "      fill: #FFFFFF;\n",
       "    }\n",
       "  </style>\n",
       "\n",
       "      <script>\n",
       "        const buttonEl =\n",
       "          document.querySelector('#df-86672610-13fa-448d-a96b-da57ba711c31 button.colab-df-convert');\n",
       "        buttonEl.style.display =\n",
       "          google.colab.kernel.accessAllowed ? 'block' : 'none';\n",
       "\n",
       "        async function convertToInteractive(key) {\n",
       "          const element = document.querySelector('#df-86672610-13fa-448d-a96b-da57ba711c31');\n",
       "          const dataTable =\n",
       "            await google.colab.kernel.invokeFunction('convertToInteractive',\n",
       "                                                     [key], {});\n",
       "          if (!dataTable) return;\n",
       "\n",
       "          const docLinkHtml = 'Like what you see? Visit the ' +\n",
       "            '<a target=\"_blank\" href=https://colab.research.google.com/notebooks/data_table.ipynb>data table notebook</a>'\n",
       "            + ' to learn more about interactive tables.';\n",
       "          element.innerHTML = '';\n",
       "          dataTable['output_type'] = 'display_data';\n",
       "          await google.colab.output.renderOutput(dataTable, element);\n",
       "          const docLink = document.createElement('div');\n",
       "          docLink.innerHTML = docLinkHtml;\n",
       "          element.appendChild(docLink);\n",
       "        }\n",
       "      </script>\n",
       "    </div>\n",
       "  </div>\n",
       "  "
      ],
      "text/plain": [
       "   state  project_grade_cate  input_cate  teacher_pre  input_sub_cate\n",
       "0     26                   4          47            3             378\n",
       "1      2                   3           9            3             259\n",
       "2      5                   4           9            2             278\n",
       "3      9                   4          25            2             307\n",
       "4      4                   4          49            2             380"
      ]
     },
     "execution_count": 33,
     "metadata": {},
     "output_type": "execute_result"
    }
   ],
   "source": [
    "column_train_data.head(5)"
   ]
  },
  {
   "cell_type": "code",
   "execution_count": null,
   "metadata": {
    "colab": {
     "base_uri": "https://localhost:8080/"
    },
    "id": "dXCPROTfMKhu",
    "outputId": "e54816fc-aaf8-4be6-f151-8eb05d06ae3b",
    "scrolled": false
   },
   "outputs": [
    {
     "data": {
      "text/html": [
       "\n",
       "  <div id=\"df-6ba2ecf7-5866-4bf8-8a10-8624a25b45af\">\n",
       "    <div class=\"colab-df-container\">\n",
       "      <div>\n",
       "<style scoped>\n",
       "    .dataframe tbody tr th:only-of-type {\n",
       "        vertical-align: middle;\n",
       "    }\n",
       "\n",
       "    .dataframe tbody tr th {\n",
       "        vertical-align: top;\n",
       "    }\n",
       "\n",
       "    .dataframe thead th {\n",
       "        text-align: right;\n",
       "    }\n",
       "</style>\n",
       "<table border=\"1\" class=\"dataframe\">\n",
       "  <thead>\n",
       "    <tr style=\"text-align: right;\">\n",
       "      <th></th>\n",
       "      <th>state</th>\n",
       "      <th>project_grade_cate</th>\n",
       "      <th>input_cate</th>\n",
       "      <th>teacher_pre</th>\n",
       "      <th>input_sub_cate</th>\n",
       "    </tr>\n",
       "  </thead>\n",
       "  <tbody>\n",
       "    <tr>\n",
       "      <th>0</th>\n",
       "      <td>4</td>\n",
       "      <td>1</td>\n",
       "      <td>9</td>\n",
       "      <td>2</td>\n",
       "      <td>278</td>\n",
       "    </tr>\n",
       "    <tr>\n",
       "      <th>1</th>\n",
       "      <td>2</td>\n",
       "      <td>1</td>\n",
       "      <td>4</td>\n",
       "      <td>2</td>\n",
       "      <td>93</td>\n",
       "    </tr>\n",
       "    <tr>\n",
       "      <th>2</th>\n",
       "      <td>15</td>\n",
       "      <td>1</td>\n",
       "      <td>9</td>\n",
       "      <td>2</td>\n",
       "      <td>278</td>\n",
       "    </tr>\n",
       "    <tr>\n",
       "      <th>3</th>\n",
       "      <td>3</td>\n",
       "      <td>1</td>\n",
       "      <td>33</td>\n",
       "      <td>2</td>\n",
       "      <td>164</td>\n",
       "    </tr>\n",
       "    <tr>\n",
       "      <th>4</th>\n",
       "      <td>2</td>\n",
       "      <td>4</td>\n",
       "      <td>29</td>\n",
       "      <td>2</td>\n",
       "      <td>308</td>\n",
       "    </tr>\n",
       "  </tbody>\n",
       "</table>\n",
       "</div>\n",
       "      <button class=\"colab-df-convert\" onclick=\"convertToInteractive('df-6ba2ecf7-5866-4bf8-8a10-8624a25b45af')\"\n",
       "              title=\"Convert this dataframe to an interactive table.\"\n",
       "              style=\"display:none;\">\n",
       "        \n",
       "  <svg xmlns=\"http://www.w3.org/2000/svg\" height=\"24px\"viewBox=\"0 0 24 24\"\n",
       "       width=\"24px\">\n",
       "    <path d=\"M0 0h24v24H0V0z\" fill=\"none\"/>\n",
       "    <path d=\"M18.56 5.44l.94 2.06.94-2.06 2.06-.94-2.06-.94-.94-2.06-.94 2.06-2.06.94zm-11 1L8.5 8.5l.94-2.06 2.06-.94-2.06-.94L8.5 2.5l-.94 2.06-2.06.94zm10 10l.94 2.06.94-2.06 2.06-.94-2.06-.94-.94-2.06-.94 2.06-2.06.94z\"/><path d=\"M17.41 7.96l-1.37-1.37c-.4-.4-.92-.59-1.43-.59-.52 0-1.04.2-1.43.59L10.3 9.45l-7.72 7.72c-.78.78-.78 2.05 0 2.83L4 21.41c.39.39.9.59 1.41.59.51 0 1.02-.2 1.41-.59l7.78-7.78 2.81-2.81c.8-.78.8-2.07 0-2.86zM5.41 20L4 18.59l7.72-7.72 1.47 1.35L5.41 20z\"/>\n",
       "  </svg>\n",
       "      </button>\n",
       "      \n",
       "  <style>\n",
       "    .colab-df-container {\n",
       "      display:flex;\n",
       "      flex-wrap:wrap;\n",
       "      gap: 12px;\n",
       "    }\n",
       "\n",
       "    .colab-df-convert {\n",
       "      background-color: #E8F0FE;\n",
       "      border: none;\n",
       "      border-radius: 50%;\n",
       "      cursor: pointer;\n",
       "      display: none;\n",
       "      fill: #1967D2;\n",
       "      height: 32px;\n",
       "      padding: 0 0 0 0;\n",
       "      width: 32px;\n",
       "    }\n",
       "\n",
       "    .colab-df-convert:hover {\n",
       "      background-color: #E2EBFA;\n",
       "      box-shadow: 0px 1px 2px rgba(60, 64, 67, 0.3), 0px 1px 3px 1px rgba(60, 64, 67, 0.15);\n",
       "      fill: #174EA6;\n",
       "    }\n",
       "\n",
       "    [theme=dark] .colab-df-convert {\n",
       "      background-color: #3B4455;\n",
       "      fill: #D2E3FC;\n",
       "    }\n",
       "\n",
       "    [theme=dark] .colab-df-convert:hover {\n",
       "      background-color: #434B5C;\n",
       "      box-shadow: 0px 1px 3px 1px rgba(0, 0, 0, 0.15);\n",
       "      filter: drop-shadow(0px 1px 2px rgba(0, 0, 0, 0.3));\n",
       "      fill: #FFFFFF;\n",
       "    }\n",
       "  </style>\n",
       "\n",
       "      <script>\n",
       "        const buttonEl =\n",
       "          document.querySelector('#df-6ba2ecf7-5866-4bf8-8a10-8624a25b45af button.colab-df-convert');\n",
       "        buttonEl.style.display =\n",
       "          google.colab.kernel.accessAllowed ? 'block' : 'none';\n",
       "\n",
       "        async function convertToInteractive(key) {\n",
       "          const element = document.querySelector('#df-6ba2ecf7-5866-4bf8-8a10-8624a25b45af');\n",
       "          const dataTable =\n",
       "            await google.colab.kernel.invokeFunction('convertToInteractive',\n",
       "                                                     [key], {});\n",
       "          if (!dataTable) return;\n",
       "\n",
       "          const docLinkHtml = 'Like what you see? Visit the ' +\n",
       "            '<a target=\"_blank\" href=https://colab.research.google.com/notebooks/data_table.ipynb>data table notebook</a>'\n",
       "            + ' to learn more about interactive tables.';\n",
       "          element.innerHTML = '';\n",
       "          dataTable['output_type'] = 'display_data';\n",
       "          await google.colab.output.renderOutput(dataTable, element);\n",
       "          const docLink = document.createElement('div');\n",
       "          docLink.innerHTML = docLinkHtml;\n",
       "          element.appendChild(docLink);\n",
       "        }\n",
       "      </script>\n",
       "    </div>\n",
       "  </div>\n",
       "  "
      ],
      "text/plain": [
       "   state  project_grade_cate  input_cate  teacher_pre  input_sub_cate\n",
       "0      4                   1           9            2             278\n",
       "1      2                   1           4            2              93\n",
       "2     15                   1           9            2             278\n",
       "3      3                   1          33            2             164\n",
       "4      2                   4          29            2             308"
      ]
     },
     "execution_count": 34,
     "metadata": {},
     "output_type": "execute_result"
    }
   ],
   "source": [
    "column_test_data.head()"
   ]
  },
  {
   "cell_type": "markdown",
   "metadata": {
    "id": "SiFlFashMKh0"
   },
   "source": [
    "## 1.3 Numerical feature Vectorization"
   ]
  },
  {
   "cell_type": "code",
   "execution_count": null,
   "metadata": {
    "id": "x5JXGTuVMKh4"
   },
   "outputs": [],
   "source": [
    "# you have to standardise the numerical columns\n",
    "# stack both the numerical features\n",
    "#after numerical feature vectorization you will have numerical_data_train and numerical_data_test"
   ]
  },
  {
   "cell_type": "code",
   "execution_count": null,
   "metadata": {
    "id": "FYNttxzKMKh5"
   },
   "outputs": [],
   "source": [
    "\n",
    "\n",
    "standardiser = StandardScaler().fit(X_train[['teacher_number_of_previously_posted_projects', 'price']])\n",
    "numerical_data_train = standardiser.transform(X_train[['teacher_number_of_previously_posted_projects', 'price']])\n",
    "numerical_data_cv = standardiser.transform(X_cv[['teacher_number_of_previously_posted_projects', 'price']])\n",
    "numerical_data_test = standardiser.transform(X_test[['teacher_number_of_previously_posted_projects', 'price']])\n"
   ]
  },
  {
   "cell_type": "code",
   "execution_count": null,
   "metadata": {
    "id": "O_GKkg9VMKh7"
   },
   "outputs": [],
   "source": [
    "# convert array to df\n",
    "numerical_data_train = pd.DataFrame(numerical_data_train, columns = ['teacher_number_of_previously_posted_projects', 'price'])\n",
    "numerical_data_cv = pd.DataFrame(numerical_data_cv, columns = ['teacher_number_of_previously_posted_projects', 'price'])\n",
    "numerical_data_test = pd.DataFrame(numerical_data_test, columns = ['teacher_number_of_previously_posted_projects', 'price'])\n"
   ]
  },
  {
   "cell_type": "code",
   "execution_count": null,
   "metadata": {
    "id": "VHGo4BzUMKh9"
   },
   "outputs": [],
   "source": [
    "x_tr_df = pd.concat((column_train_data,numerical_data_train), axis=1)\n",
    "x_cv_df = pd.concat((column_cv_data,numerical_data_cv), axis=1)\n",
    "x_te_df = pd.concat((column_test_data,numerical_data_test), axis=1)"
   ]
  },
  {
   "cell_type": "code",
   "execution_count": null,
   "metadata": {
    "colab": {
     "base_uri": "https://localhost:8080/"
    },
    "id": "HGOsckOkMKh_",
    "outputId": "b7001fc1-59af-4771-a06d-5fd0a55ad8d3"
   },
   "outputs": [
    {
     "data": {
      "text/plain": [
       "((69918, 7), (17480, 7), (21850, 7))"
      ]
     },
     "execution_count": 39,
     "metadata": {},
     "output_type": "execute_result"
    }
   ],
   "source": [
    "x_tr_df.shape, x_cv_df.shape, x_te_df.shape"
   ]
  },
  {
   "cell_type": "code",
   "execution_count": null,
   "metadata": {
    "colab": {
     "base_uri": "https://localhost:8080/"
    },
    "id": "ClnYM5J-MKiD",
    "outputId": "d5865194-110b-4d70-d050-f3503a0b1f94"
   },
   "outputs": [
    {
     "data": {
      "text/html": [
       "\n",
       "  <div id=\"df-5548b925-6902-49a8-90c3-620dabd90bd6\">\n",
       "    <div class=\"colab-df-container\">\n",
       "      <div>\n",
       "<style scoped>\n",
       "    .dataframe tbody tr th:only-of-type {\n",
       "        vertical-align: middle;\n",
       "    }\n",
       "\n",
       "    .dataframe tbody tr th {\n",
       "        vertical-align: top;\n",
       "    }\n",
       "\n",
       "    .dataframe thead th {\n",
       "        text-align: right;\n",
       "    }\n",
       "</style>\n",
       "<table border=\"1\" class=\"dataframe\">\n",
       "  <thead>\n",
       "    <tr style=\"text-align: right;\">\n",
       "      <th></th>\n",
       "      <th>state</th>\n",
       "      <th>project_grade_cate</th>\n",
       "      <th>input_cate</th>\n",
       "      <th>teacher_pre</th>\n",
       "      <th>input_sub_cate</th>\n",
       "      <th>teacher_number_of_previously_posted_projects</th>\n",
       "      <th>price</th>\n",
       "    </tr>\n",
       "  </thead>\n",
       "  <tbody>\n",
       "    <tr>\n",
       "      <th>48971</th>\n",
       "      <td>9</td>\n",
       "      <td>3</td>\n",
       "      <td>17</td>\n",
       "      <td>2</td>\n",
       "      <td>293</td>\n",
       "      <td>-0.398782</td>\n",
       "      <td>-0.574776</td>\n",
       "    </tr>\n",
       "  </tbody>\n",
       "</table>\n",
       "</div>\n",
       "      <button class=\"colab-df-convert\" onclick=\"convertToInteractive('df-5548b925-6902-49a8-90c3-620dabd90bd6')\"\n",
       "              title=\"Convert this dataframe to an interactive table.\"\n",
       "              style=\"display:none;\">\n",
       "        \n",
       "  <svg xmlns=\"http://www.w3.org/2000/svg\" height=\"24px\"viewBox=\"0 0 24 24\"\n",
       "       width=\"24px\">\n",
       "    <path d=\"M0 0h24v24H0V0z\" fill=\"none\"/>\n",
       "    <path d=\"M18.56 5.44l.94 2.06.94-2.06 2.06-.94-2.06-.94-.94-2.06-.94 2.06-2.06.94zm-11 1L8.5 8.5l.94-2.06 2.06-.94-2.06-.94L8.5 2.5l-.94 2.06-2.06.94zm10 10l.94 2.06.94-2.06 2.06-.94-2.06-.94-.94-2.06-.94 2.06-2.06.94z\"/><path d=\"M17.41 7.96l-1.37-1.37c-.4-.4-.92-.59-1.43-.59-.52 0-1.04.2-1.43.59L10.3 9.45l-7.72 7.72c-.78.78-.78 2.05 0 2.83L4 21.41c.39.39.9.59 1.41.59.51 0 1.02-.2 1.41-.59l7.78-7.78 2.81-2.81c.8-.78.8-2.07 0-2.86zM5.41 20L4 18.59l7.72-7.72 1.47 1.35L5.41 20z\"/>\n",
       "  </svg>\n",
       "      </button>\n",
       "      \n",
       "  <style>\n",
       "    .colab-df-container {\n",
       "      display:flex;\n",
       "      flex-wrap:wrap;\n",
       "      gap: 12px;\n",
       "    }\n",
       "\n",
       "    .colab-df-convert {\n",
       "      background-color: #E8F0FE;\n",
       "      border: none;\n",
       "      border-radius: 50%;\n",
       "      cursor: pointer;\n",
       "      display: none;\n",
       "      fill: #1967D2;\n",
       "      height: 32px;\n",
       "      padding: 0 0 0 0;\n",
       "      width: 32px;\n",
       "    }\n",
       "\n",
       "    .colab-df-convert:hover {\n",
       "      background-color: #E2EBFA;\n",
       "      box-shadow: 0px 1px 2px rgba(60, 64, 67, 0.3), 0px 1px 3px 1px rgba(60, 64, 67, 0.15);\n",
       "      fill: #174EA6;\n",
       "    }\n",
       "\n",
       "    [theme=dark] .colab-df-convert {\n",
       "      background-color: #3B4455;\n",
       "      fill: #D2E3FC;\n",
       "    }\n",
       "\n",
       "    [theme=dark] .colab-df-convert:hover {\n",
       "      background-color: #434B5C;\n",
       "      box-shadow: 0px 1px 3px 1px rgba(0, 0, 0, 0.15);\n",
       "      filter: drop-shadow(0px 1px 2px rgba(0, 0, 0, 0.3));\n",
       "      fill: #FFFFFF;\n",
       "    }\n",
       "  </style>\n",
       "\n",
       "      <script>\n",
       "        const buttonEl =\n",
       "          document.querySelector('#df-5548b925-6902-49a8-90c3-620dabd90bd6 button.colab-df-convert');\n",
       "        buttonEl.style.display =\n",
       "          google.colab.kernel.accessAllowed ? 'block' : 'none';\n",
       "\n",
       "        async function convertToInteractive(key) {\n",
       "          const element = document.querySelector('#df-5548b925-6902-49a8-90c3-620dabd90bd6');\n",
       "          const dataTable =\n",
       "            await google.colab.kernel.invokeFunction('convertToInteractive',\n",
       "                                                     [key], {});\n",
       "          if (!dataTable) return;\n",
       "\n",
       "          const docLinkHtml = 'Like what you see? Visit the ' +\n",
       "            '<a target=\"_blank\" href=https://colab.research.google.com/notebooks/data_table.ipynb>data table notebook</a>'\n",
       "            + ' to learn more about interactive tables.';\n",
       "          element.innerHTML = '';\n",
       "          dataTable['output_type'] = 'display_data';\n",
       "          await google.colab.output.renderOutput(dataTable, element);\n",
       "          const docLink = document.createElement('div');\n",
       "          docLink.innerHTML = docLinkHtml;\n",
       "          element.appendChild(docLink);\n",
       "        }\n",
       "      </script>\n",
       "    </div>\n",
       "  </div>\n",
       "  "
      ],
      "text/plain": [
       "       state  project_grade_cate  input_cate  teacher_pre  input_sub_cate  \\\n",
       "48971      9                   3          17            2             293   \n",
       "\n",
       "       teacher_number_of_previously_posted_projects     price  \n",
       "48971                                     -0.398782 -0.574776  "
      ]
     },
     "execution_count": 40,
     "metadata": {},
     "output_type": "execute_result"
    }
   ],
   "source": [
    "x_tr_df.sample()"
   ]
  },
  {
   "cell_type": "code",
   "execution_count": null,
   "metadata": {
    "colab": {
     "base_uri": "https://localhost:8080/"
    },
    "id": "YRa0ys0fMKiF",
    "outputId": "1e96d956-d32b-4c96-e129-4aa834a0c135"
   },
   "outputs": [
    {
     "data": {
      "text/html": [
       "\n",
       "  <div id=\"df-17c7a5a1-1c64-40ca-bf2c-b4f2bfaa7cc6\">\n",
       "    <div class=\"colab-df-container\">\n",
       "      <div>\n",
       "<style scoped>\n",
       "    .dataframe tbody tr th:only-of-type {\n",
       "        vertical-align: middle;\n",
       "    }\n",
       "\n",
       "    .dataframe tbody tr th {\n",
       "        vertical-align: top;\n",
       "    }\n",
       "\n",
       "    .dataframe thead th {\n",
       "        text-align: right;\n",
       "    }\n",
       "</style>\n",
       "<table border=\"1\" class=\"dataframe\">\n",
       "  <thead>\n",
       "    <tr style=\"text-align: right;\">\n",
       "      <th></th>\n",
       "      <th>teacher_number_of_previously_posted_projects</th>\n",
       "      <th>price</th>\n",
       "    </tr>\n",
       "  </thead>\n",
       "  <tbody>\n",
       "    <tr>\n",
       "      <th>19839</th>\n",
       "      <td>-0.327464</td>\n",
       "      <td>-0.560374</td>\n",
       "    </tr>\n",
       "  </tbody>\n",
       "</table>\n",
       "</div>\n",
       "      <button class=\"colab-df-convert\" onclick=\"convertToInteractive('df-17c7a5a1-1c64-40ca-bf2c-b4f2bfaa7cc6')\"\n",
       "              title=\"Convert this dataframe to an interactive table.\"\n",
       "              style=\"display:none;\">\n",
       "        \n",
       "  <svg xmlns=\"http://www.w3.org/2000/svg\" height=\"24px\"viewBox=\"0 0 24 24\"\n",
       "       width=\"24px\">\n",
       "    <path d=\"M0 0h24v24H0V0z\" fill=\"none\"/>\n",
       "    <path d=\"M18.56 5.44l.94 2.06.94-2.06 2.06-.94-2.06-.94-.94-2.06-.94 2.06-2.06.94zm-11 1L8.5 8.5l.94-2.06 2.06-.94-2.06-.94L8.5 2.5l-.94 2.06-2.06.94zm10 10l.94 2.06.94-2.06 2.06-.94-2.06-.94-.94-2.06-.94 2.06-2.06.94z\"/><path d=\"M17.41 7.96l-1.37-1.37c-.4-.4-.92-.59-1.43-.59-.52 0-1.04.2-1.43.59L10.3 9.45l-7.72 7.72c-.78.78-.78 2.05 0 2.83L4 21.41c.39.39.9.59 1.41.59.51 0 1.02-.2 1.41-.59l7.78-7.78 2.81-2.81c.8-.78.8-2.07 0-2.86zM5.41 20L4 18.59l7.72-7.72 1.47 1.35L5.41 20z\"/>\n",
       "  </svg>\n",
       "      </button>\n",
       "      \n",
       "  <style>\n",
       "    .colab-df-container {\n",
       "      display:flex;\n",
       "      flex-wrap:wrap;\n",
       "      gap: 12px;\n",
       "    }\n",
       "\n",
       "    .colab-df-convert {\n",
       "      background-color: #E8F0FE;\n",
       "      border: none;\n",
       "      border-radius: 50%;\n",
       "      cursor: pointer;\n",
       "      display: none;\n",
       "      fill: #1967D2;\n",
       "      height: 32px;\n",
       "      padding: 0 0 0 0;\n",
       "      width: 32px;\n",
       "    }\n",
       "\n",
       "    .colab-df-convert:hover {\n",
       "      background-color: #E2EBFA;\n",
       "      box-shadow: 0px 1px 2px rgba(60, 64, 67, 0.3), 0px 1px 3px 1px rgba(60, 64, 67, 0.15);\n",
       "      fill: #174EA6;\n",
       "    }\n",
       "\n",
       "    [theme=dark] .colab-df-convert {\n",
       "      background-color: #3B4455;\n",
       "      fill: #D2E3FC;\n",
       "    }\n",
       "\n",
       "    [theme=dark] .colab-df-convert:hover {\n",
       "      background-color: #434B5C;\n",
       "      box-shadow: 0px 1px 3px 1px rgba(0, 0, 0, 0.15);\n",
       "      filter: drop-shadow(0px 1px 2px rgba(0, 0, 0, 0.3));\n",
       "      fill: #FFFFFF;\n",
       "    }\n",
       "  </style>\n",
       "\n",
       "      <script>\n",
       "        const buttonEl =\n",
       "          document.querySelector('#df-17c7a5a1-1c64-40ca-bf2c-b4f2bfaa7cc6 button.colab-df-convert');\n",
       "        buttonEl.style.display =\n",
       "          google.colab.kernel.accessAllowed ? 'block' : 'none';\n",
       "\n",
       "        async function convertToInteractive(key) {\n",
       "          const element = document.querySelector('#df-17c7a5a1-1c64-40ca-bf2c-b4f2bfaa7cc6');\n",
       "          const dataTable =\n",
       "            await google.colab.kernel.invokeFunction('convertToInteractive',\n",
       "                                                     [key], {});\n",
       "          if (!dataTable) return;\n",
       "\n",
       "          const docLinkHtml = 'Like what you see? Visit the ' +\n",
       "            '<a target=\"_blank\" href=https://colab.research.google.com/notebooks/data_table.ipynb>data table notebook</a>'\n",
       "            + ' to learn more about interactive tables.';\n",
       "          element.innerHTML = '';\n",
       "          dataTable['output_type'] = 'display_data';\n",
       "          await google.colab.output.renderOutput(dataTable, element);\n",
       "          const docLink = document.createElement('div');\n",
       "          docLink.innerHTML = docLinkHtml;\n",
       "          element.appendChild(docLink);\n",
       "        }\n",
       "      </script>\n",
       "    </div>\n",
       "  </div>\n",
       "  "
      ],
      "text/plain": [
       "       teacher_number_of_previously_posted_projects     price\n",
       "19839                                     -0.327464 -0.560374"
      ]
     },
     "execution_count": 41,
     "metadata": {},
     "output_type": "execute_result"
    }
   ],
   "source": [
    "numerical_data_train.sample()"
   ]
  },
  {
   "cell_type": "code",
   "execution_count": null,
   "metadata": {
    "colab": {
     "base_uri": "https://localhost:8080/"
    },
    "id": "44jeXJlcduUZ",
    "outputId": "500bcd03-a3a8-421d-e7ff-8b60cf0ec080"
   },
   "outputs": [
    {
     "data": {
      "text/plain": [
       "(69918,)"
      ]
     },
     "execution_count": 42,
     "metadata": {},
     "output_type": "execute_result"
    }
   ],
   "source": [
    "\n",
    "y_train.shape\n",
    "\n"
   ]
  },
  {
   "cell_type": "code",
   "execution_count": null,
   "metadata": {
    "colab": {
     "base_uri": "https://localhost:8080/"
    },
    "id": "VvWUzNWWd4QU",
    "outputId": "bc7fec1f-b05a-4ea5-9745-980f63886311"
   },
   "outputs": [
    {
     "name": "stdout",
     "output_type": "stream",
     "text": [
      "shape: (69918,)\n"
     ]
    },
    {
     "data": {
      "text/plain": [
       "((69918, 2), (17480, 2), (21850, 2))"
      ]
     },
     "execution_count": 43,
     "metadata": {},
     "output_type": "execute_result"
    }
   ],
   "source": [
    "#converting class labels to categorical variables\n",
    "print(\"shape:\",y_train.shape)\n",
    "\n",
    "y_train = pd.get_dummies(y_train)\n",
    "y_cv = pd.get_dummies(y_cv)\n",
    "y_test = pd.get_dummies(y_test)\n",
    "\n",
    "y_train.shape, y_cv.shape, y_test.shape"
   ]
  },
  {
   "cell_type": "code",
   "execution_count": null,
   "metadata": {
    "colab": {
     "base_uri": "https://localhost:8080/"
    },
    "id": "NA3jSSVqikPJ",
    "outputId": "ca01192b-cfa2-4d05-ed3d-6ca141a723e4"
   },
   "outputs": [
    {
     "data": {
      "text/html": [
       "\n",
       "  <div id=\"df-38221772-e089-475e-ab1c-dda45b894248\">\n",
       "    <div class=\"colab-df-container\">\n",
       "      <div>\n",
       "<style scoped>\n",
       "    .dataframe tbody tr th:only-of-type {\n",
       "        vertical-align: middle;\n",
       "    }\n",
       "\n",
       "    .dataframe tbody tr th {\n",
       "        vertical-align: top;\n",
       "    }\n",
       "\n",
       "    .dataframe thead th {\n",
       "        text-align: right;\n",
       "    }\n",
       "</style>\n",
       "<table border=\"1\" class=\"dataframe\">\n",
       "  <thead>\n",
       "    <tr style=\"text-align: right;\">\n",
       "      <th></th>\n",
       "      <th>0</th>\n",
       "      <th>1</th>\n",
       "    </tr>\n",
       "  </thead>\n",
       "  <tbody>\n",
       "    <tr>\n",
       "      <th>46090</th>\n",
       "      <td>0</td>\n",
       "      <td>1</td>\n",
       "    </tr>\n",
       "    <tr>\n",
       "      <th>95757</th>\n",
       "      <td>0</td>\n",
       "      <td>1</td>\n",
       "    </tr>\n",
       "  </tbody>\n",
       "</table>\n",
       "</div>\n",
       "      <button class=\"colab-df-convert\" onclick=\"convertToInteractive('df-38221772-e089-475e-ab1c-dda45b894248')\"\n",
       "              title=\"Convert this dataframe to an interactive table.\"\n",
       "              style=\"display:none;\">\n",
       "        \n",
       "  <svg xmlns=\"http://www.w3.org/2000/svg\" height=\"24px\"viewBox=\"0 0 24 24\"\n",
       "       width=\"24px\">\n",
       "    <path d=\"M0 0h24v24H0V0z\" fill=\"none\"/>\n",
       "    <path d=\"M18.56 5.44l.94 2.06.94-2.06 2.06-.94-2.06-.94-.94-2.06-.94 2.06-2.06.94zm-11 1L8.5 8.5l.94-2.06 2.06-.94-2.06-.94L8.5 2.5l-.94 2.06-2.06.94zm10 10l.94 2.06.94-2.06 2.06-.94-2.06-.94-.94-2.06-.94 2.06-2.06.94z\"/><path d=\"M17.41 7.96l-1.37-1.37c-.4-.4-.92-.59-1.43-.59-.52 0-1.04.2-1.43.59L10.3 9.45l-7.72 7.72c-.78.78-.78 2.05 0 2.83L4 21.41c.39.39.9.59 1.41.59.51 0 1.02-.2 1.41-.59l7.78-7.78 2.81-2.81c.8-.78.8-2.07 0-2.86zM5.41 20L4 18.59l7.72-7.72 1.47 1.35L5.41 20z\"/>\n",
       "  </svg>\n",
       "      </button>\n",
       "      \n",
       "  <style>\n",
       "    .colab-df-container {\n",
       "      display:flex;\n",
       "      flex-wrap:wrap;\n",
       "      gap: 12px;\n",
       "    }\n",
       "\n",
       "    .colab-df-convert {\n",
       "      background-color: #E8F0FE;\n",
       "      border: none;\n",
       "      border-radius: 50%;\n",
       "      cursor: pointer;\n",
       "      display: none;\n",
       "      fill: #1967D2;\n",
       "      height: 32px;\n",
       "      padding: 0 0 0 0;\n",
       "      width: 32px;\n",
       "    }\n",
       "\n",
       "    .colab-df-convert:hover {\n",
       "      background-color: #E2EBFA;\n",
       "      box-shadow: 0px 1px 2px rgba(60, 64, 67, 0.3), 0px 1px 3px 1px rgba(60, 64, 67, 0.15);\n",
       "      fill: #174EA6;\n",
       "    }\n",
       "\n",
       "    [theme=dark] .colab-df-convert {\n",
       "      background-color: #3B4455;\n",
       "      fill: #D2E3FC;\n",
       "    }\n",
       "\n",
       "    [theme=dark] .colab-df-convert:hover {\n",
       "      background-color: #434B5C;\n",
       "      box-shadow: 0px 1px 3px 1px rgba(0, 0, 0, 0.15);\n",
       "      filter: drop-shadow(0px 1px 2px rgba(0, 0, 0, 0.3));\n",
       "      fill: #FFFFFF;\n",
       "    }\n",
       "  </style>\n",
       "\n",
       "      <script>\n",
       "        const buttonEl =\n",
       "          document.querySelector('#df-38221772-e089-475e-ab1c-dda45b894248 button.colab-df-convert');\n",
       "        buttonEl.style.display =\n",
       "          google.colab.kernel.accessAllowed ? 'block' : 'none';\n",
       "\n",
       "        async function convertToInteractive(key) {\n",
       "          const element = document.querySelector('#df-38221772-e089-475e-ab1c-dda45b894248');\n",
       "          const dataTable =\n",
       "            await google.colab.kernel.invokeFunction('convertToInteractive',\n",
       "                                                     [key], {});\n",
       "          if (!dataTable) return;\n",
       "\n",
       "          const docLinkHtml = 'Like what you see? Visit the ' +\n",
       "            '<a target=\"_blank\" href=https://colab.research.google.com/notebooks/data_table.ipynb>data table notebook</a>'\n",
       "            + ' to learn more about interactive tables.';\n",
       "          element.innerHTML = '';\n",
       "          dataTable['output_type'] = 'display_data';\n",
       "          await google.colab.output.renderOutput(dataTable, element);\n",
       "          const docLink = document.createElement('div');\n",
       "          docLink.innerHTML = docLinkHtml;\n",
       "          element.appendChild(docLink);\n",
       "        }\n",
       "      </script>\n",
       "    </div>\n",
       "  </div>\n",
       "  "
      ],
      "text/plain": [
       "       0  1\n",
       "46090  0  1\n",
       "95757  0  1"
      ]
     },
     "execution_count": 44,
     "metadata": {},
     "output_type": "execute_result"
    }
   ],
   "source": [
    "y_train.head(2)"
   ]
  },
  {
   "cell_type": "markdown",
   "metadata": {
    "id": "_ZY6d_0BMKiG"
   },
   "source": [
    "## 1.4 Defining the model"
   ]
  },
  {
   "cell_type": "markdown",
   "metadata": {
    "id": "3ANk2r8SMKiI"
   },
   "source": [
    "<img src='https://i.imgur.com/w395Yk9.png'>"
   ]
  },
  {
   "cell_type": "markdown",
   "metadata": {
    "id": "9_OYB7xFMKiJ"
   },
   "source": [
    "save and load model:\n",
    "![image.png](attachment:image.png)"
   ]
  },
  {
   "cell_type": "code",
   "execution_count": null,
   "metadata": {
    "id": "bmO0D7b1MKiK"
   },
   "outputs": [],
   "source": [
    "# as of now we have vectorized all our features now we will define our model.\n",
    "# as it is clear from above image that the given model has multiple input layers and hence we have to use functional API\n",
    "# Please go through - https://keras.io/guides/functional_api/\n",
    "# it is a good programming practise to define your complete model i.e all inputs , intermediate and output layers at one place.\n",
    "# while defining your model make sure that you use variable names while defining any length,dimension or size.\n",
    "#for ex.- you should write the code as 'input_text = Input(shape=(pad_length,))' and not as 'input_text = Input(shape=(300,))'\n",
    "# the embedding layer for text data should be non trainable\n",
    "# the embedding layer for categorical data should be trainable\n",
    "# https://stats.stackexchange.com/questions/270546/how-does-keras-embedding-layer-work\n",
    "# https://towardsdatascience.com/deep-embeddings-for-categorical-variables-cat2vec-b05c8ab63ac0\n",
    "#print model.summary() after you have defined the model\n",
    "#plot the model using utils.plot_model module and make sure that it is similar to the above image"
   ]
  },
  {
   "cell_type": "code",
   "execution_count": null,
   "metadata": {
    "colab": {
     "base_uri": "https://localhost:8080/"
    },
    "id": "KcDOYXX0MKiP",
    "outputId": "1b6ebfb4-eb3c-4442-ab26-96795c19fe41",
    "scrolled": true
   },
   "outputs": [
    {
     "data": {
      "text/plain": [
       "47385"
      ]
     },
     "execution_count": 47,
     "metadata": {},
     "output_type": "execute_result"
    }
   ],
   "source": [
    "#@title\n",
    "len(word_corpus)+1"
   ]
  },
  {
   "cell_type": "code",
   "execution_count": null,
   "metadata": {
    "colab": {
     "base_uri": "https://localhost:8080/"
    },
    "id": "rD2clH6NMKiQ",
    "outputId": "31b2f140-490f-4f48-a8f2-9b877c15c7ec"
   },
   "outputs": [
    {
     "data": {
      "text/plain": [
       "(47385, 300)"
      ]
     },
     "execution_count": 48,
     "metadata": {},
     "output_type": "execute_result"
    }
   ],
   "source": [
    "#@title\n",
    "embedding_matrix.shape"
   ]
  },
  {
   "cell_type": "code",
   "execution_count": null,
   "metadata": {
    "colab": {
     "base_uri": "https://localhost:8080/"
    },
    "id": "oo75Vx8sS0F3",
    "outputId": "846f3bb4-4c73-4982-f60c-b3494c8fe0cf"
   },
   "outputs": [
    {
     "data": {
      "text/plain": [
       "339"
      ]
     },
     "execution_count": 49,
     "metadata": {},
     "output_type": "execute_result"
    }
   ],
   "source": [
    "text_padded_cv.shape[1]"
   ]
  },
  {
   "cell_type": "code",
   "execution_count": null,
   "metadata": {
    "id": "uEpNjNIUMKiS"
   },
   "outputs": [],
   "source": [
    "# ref for multi input and output: https://keras.io/guides/functional_api/#:~:text=complex%20graph%20topologies-,Models%20with%20multiple%20inputs%20and%20outputs,-The%20functional%20API\n",
    "tf.keras.backend.clear_session()\n",
    "from tensorflow.keras.initializers import HeNormal as he_normal\n",
    "from tensorflow.keras.regularizers import L2 as l2\n",
    "\n",
    "total_text_input = Input(shape=(text_padded.shape[1],), name=\"total_text_input\")  # Variable-length sequence of ints\n",
    "\n",
    "state_input = Input(shape=(1,), name=\"state_input\")  # Variable-length sequence of ints\n",
    "grade_cate_input = Input(shape=(1,), name=\"grade_cate_input\")  # Variable-length sequence of ints\n",
    "cate_input = Input(shape=(1,), name=\"cate_input\")  # Variable-length sequence of ints\n",
    "sub_cate_input = Input(shape=(1,), name=\"sub_cate_input\")  # Variable-length sequence of ints\n",
    "tea_prefix_input = Input(shape=(1,), name=\"tea_prefix\")  # Variable-length sequence of ints\n",
    "posted_projects_wrt_teacher = Input(shape=(1,), name=\"posted_projects_wrt_teacher\")\n",
    "\n",
    "\n",
    "# Embed each word into a 300-dimensional vector\n",
    "vocab_size = len(word_corpus)+1 # 51602+1\n",
    "\n",
    "emd_text_data = layers.Embedding(vocab_size, 300, weights=[embedding_matrix],\n",
    "                                  input_length=text_padded.shape[1], trainable=False, name='emd_text_data')(total_text_input)\n",
    "\n",
    "# Embed each word into a 2-dimensional vector\n",
    "vocab_size = column_train_data.state.unique().size+1\n",
    "emd_state_data = layers.Embedding(vocab_size, 2, input_length = 1, name= 'emd_state_data')(state_input)\n",
    "\n",
    "vocab_size = column_train_data.project_grade_cate.unique().size+1\n",
    "emd_PGC_data = layers.Embedding(vocab_size, 2, input_length = 1, name= 'emd_PGC_data')(grade_cate_input)\n",
    "\n",
    "vocab_size = column_train_data.input_cate.unique().size+1\n",
    "emd_clean_cate_data = layers.Embedding(vocab_size, 2, input_length = 1, name= 'emd_clean_cate_data')(cate_input)\n",
    "\n",
    "vocab_size = column_train_data.input_sub_cate.unique().size+1\n",
    "emd_clean_subcate_data = layers.Embedding(vocab_size, 2, input_length = 1, name= 'emd_clean_subcate_data')(sub_cate_input)\n",
    "\n",
    "vocab_size = column_train_data.teacher_pre.unique().size+1\n",
    "emd_tea_prefix_data = layers.Embedding(vocab_size, 2, input_length = 1, name= 'emd_tea_prefix_data')(tea_prefix_input)\n",
    "\n",
    "\n",
    "# Reduce sequence of embedded words in the title into a single 128-dimensional vector\n",
    "x = tf.keras.layers.SpatialDropout1D(0.3)(emd_text_data)\n",
    "lstm = layers.LSTM(128)(x)\n",
    "\n",
    "#input 7 remaining inout\n",
    "# input7 = Input(shape=(1,))\n",
    "# x7 = Dense(16,kernel_initializer=he_normal(),kernel_regularizer=l2(0.0001))(input7)\n",
    "# x7 = LeakyReLU()(x7)\n",
    "\n",
    "\n",
    "\n",
    "# flatten\n",
    "flaten_0 = Flatten()(lstm) \n",
    "flaten_1 = Flatten()(emd_state_data) \n",
    "flaten_2 = Flatten()(emd_PGC_data) \n",
    "flaten_3 = Flatten()(emd_clean_cate_data) \n",
    "flaten_4 = Flatten()(emd_clean_subcate_data) \n",
    "flaten_5 = Flatten()(emd_tea_prefix_data) \n",
    "\n",
    "# dense\n",
    "dense_for_rme_input = Dense(25, kernel_initializer=he_normal())(posted_projects_wrt_teacher)\n",
    "\n",
    "# Merge all available features into a single large vector via concatenation\n",
    "x = layers.concatenate([flaten_0, flaten_1, flaten_2, flaten_3, flaten_4, flaten_5, dense_for_rme_input])\n",
    "\n",
    "dense_after_conv = Dense(120, kernel_initializer=he_normal(), kernel_regularizer=l2(0.0001))(x)\n",
    "\n",
    "dropout_1 = Dropout(0.5)(dense_after_conv)\n",
    "\n",
    "dense_2 = Dense(60, kernel_initializer=he_normal(), kernel_regularizer=l2(0.0001))(dropout_1)\n",
    "\n",
    "dropout_2 = Dropout(0.5)(dense_2)\n",
    "\n",
    "dense_3 = Dense(30, kernel_initializer=he_normal(), kernel_regularizer=l2(0.0001))(dropout_2)\n",
    " \n",
    "output_layer = Dense(2, activation = 'softmax', name= 'output_label')(dense_3)\n",
    "\n",
    "model_1 = Model(inputs = [total_text_input,state_input, grade_cate_input, cate_input, sub_cate_input\n",
    "                               , tea_prefix_input, posted_projects_wrt_teacher ], \n",
    "                    outputs = [output_layer])\n",
    "\n",
    "\n"
   ]
  },
  {
   "cell_type": "code",
   "execution_count": null,
   "metadata": {
    "colab": {
     "base_uri": "https://localhost:8080/",
     "height": 362
    },
    "id": "O4USNtubMKiY",
    "outputId": "c67ed372-8888-4978-b71e-fc2dc45f2d5e"
   },
   "outputs": [
    {
     "data": {
      "image/png": "[encoded data removed]",
      "text/plain": [
       "<IPython.core.display.Image object>"
      ]
     },
     "execution_count": 51,
     "metadata": {},
     "output_type": "execute_result"
    }
   ],
   "source": [
    "tf.keras.utils.plot_model(model_1, \"multi_input_and_output_model.png\", show_shapes=True)\n"
   ]
  },
  {
   "cell_type": "code",
   "execution_count": null,
   "metadata": {
    "colab": {
     "base_uri": "https://localhost:8080/"
    },
    "id": "if2ey43qMKib",
    "outputId": "9bf3bb7a-ec21-4c35-e4ce-21dcb3114bc4"
   },
   "outputs": [
    {
     "name": "stdout",
     "output_type": "stream",
     "text": [
      "Model: \"model\"\n",
      "__________________________________________________________________________________________________\n",
      " Layer (type)                   Output Shape         Param #     Connected to                     \n",
      "==================================================================================================\n",
      " total_text_input (InputLayer)  [(None, 339)]        0           []                               \n",
      "                                                                                                  \n",
      " emd_text_data (Embedding)      (None, 339, 300)     14215500    ['total_text_input[0][0]']       \n",
      "                                                                                                  \n",
      " spatial_dropout1d (SpatialDrop  (None, 339, 300)    0           ['emd_text_data[0][0]']          \n",
      " out1D)                                                                                           \n",
      "                                                                                                  \n",
      " state_input (InputLayer)       [(None, 1)]          0           []                               \n",
      "                                                                                                  \n",
      " grade_cate_input (InputLayer)  [(None, 1)]          0           []                               \n",
      "                                                                                                  \n",
      " cate_input (InputLayer)        [(None, 1)]          0           []                               \n",
      "                                                                                                  \n",
      " sub_cate_input (InputLayer)    [(None, 1)]          0           []                               \n",
      "                                                                                                  \n",
      " tea_prefix (InputLayer)        [(None, 1)]          0           []                               \n",
      "                                                                                                  \n",
      " lstm (LSTM)                    (None, 128)          219648      ['spatial_dropout1d[0][0]']      \n",
      "                                                                                                  \n",
      " emd_state_data (Embedding)     (None, 1, 2)         102         ['state_input[0][0]']            \n",
      "                                                                                                  \n",
      " emd_PGC_data (Embedding)       (None, 1, 2)         10          ['grade_cate_input[0][0]']       \n",
      "                                                                                                  \n",
      " emd_clean_cate_data (Embedding  (None, 1, 2)        104         ['cate_input[0][0]']             \n",
      " )                                                                                                \n",
      "                                                                                                  \n",
      " emd_clean_subcate_data (Embedd  (None, 1, 2)        774         ['sub_cate_input[0][0]']         \n",
      " ing)                                                                                             \n",
      "                                                                                                  \n",
      " emd_tea_prefix_data (Embedding  (None, 1, 2)        10          ['tea_prefix[0][0]']             \n",
      " )                                                                                                \n",
      "                                                                                                  \n",
      " posted_projects_wrt_teacher (I  [(None, 1)]         0           []                               \n",
      " nputLayer)                                                                                       \n",
      "                                                                                                  \n",
      " flatten (Flatten)              (None, 128)          0           ['lstm[0][0]']                   \n",
      "                                                                                                  \n",
      " flatten_1 (Flatten)            (None, 2)            0           ['emd_state_data[0][0]']         \n",
      "                                                                                                  \n",
      " flatten_2 (Flatten)            (None, 2)            0           ['emd_PGC_data[0][0]']           \n",
      "                                                                                                  \n",
      " flatten_3 (Flatten)            (None, 2)            0           ['emd_clean_cate_data[0][0]']    \n",
      "                                                                                                  \n",
      " flatten_4 (Flatten)            (None, 2)            0           ['emd_clean_subcate_data[0][0]'] \n",
      "                                                                                                  \n",
      " flatten_5 (Flatten)            (None, 2)            0           ['emd_tea_prefix_data[0][0]']    \n",
      "                                                                                                  \n",
      " dense (Dense)                  (None, 25)           50          ['posted_projects_wrt_teacher[0][\n",
      "                                                                 0]']                             \n",
      "                                                                                                  \n",
      " concatenate (Concatenate)      (None, 163)          0           ['flatten[0][0]',                \n",
      "                                                                  'flatten_1[0][0]',              \n",
      "                                                                  'flatten_2[0][0]',              \n",
      "                                                                  'flatten_3[0][0]',              \n",
      "                                                                  'flatten_4[0][0]',              \n",
      "                                                                  'flatten_5[0][0]',              \n",
      "                                                                  'dense[0][0]']                  \n",
      "                                                                                                  \n",
      " dense_1 (Dense)                (None, 120)          19680       ['concatenate[0][0]']            \n",
      "                                                                                                  \n",
      " dropout (Dropout)              (None, 120)          0           ['dense_1[0][0]']                \n",
      "                                                                                                  \n",
      " dense_2 (Dense)                (None, 60)           7260        ['dropout[0][0]']                \n",
      "                                                                                                  \n",
      " dropout_1 (Dropout)            (None, 60)           0           ['dense_2[0][0]']                \n",
      "                                                                                                  \n",
      " dense_3 (Dense)                (None, 30)           1830        ['dropout_1[0][0]']              \n",
      "                                                                                                  \n",
      " output_label (Dense)           (None, 2)            62          ['dense_3[0][0]']                \n",
      "                                                                                                  \n",
      "==================================================================================================\n",
      "Total params: 14,465,030\n",
      "Trainable params: 249,530\n",
      "Non-trainable params: 14,215,500\n",
      "__________________________________________________________________________________________________\n"
     ]
    }
   ],
   "source": [
    "model_1.summary()"
   ]
  },
  {
   "cell_type": "code",
   "execution_count": null,
   "metadata": {
    "id": "PrE2ENa6b3E3"
   },
   "outputs": [],
   "source": []
  },
  {
   "cell_type": "markdown",
   "metadata": {
    "id": "wHr_gq6qMKif"
   },
   "source": [
    "## 1.5 Compiling and fititng your model"
   ]
  },
  {
   "cell_type": "markdown",
   "metadata": {
    "id": "Z-WyATeUMKim"
   },
   "source": [
    "**auc() through callback**"
   ]
  },
  {
   "cell_type": "code",
   "execution_count": null,
   "metadata": {
    "id": "Ac3OMD2zMKij"
   },
   "outputs": [],
   "source": [
    "#@title\n",
    "#define custom auc as metric , do not use tf.keras.metrics\n",
    "# https://stackoverflow.com/a/46844409 - custom AUC reference 1\n",
    "# https://www.kaggle.com/c/santander-customer-transaction-prediction/discussion/80807  - custom AUC reference 2\n",
    "# compile and fit your model"
   ]
  },
  {
   "cell_type": "code",
   "execution_count": null,
   "metadata": {
    "id": "MQkpmrIHMKit"
   },
   "outputs": [],
   "source": [
    "#@title -other ways to init auc\n",
    "\n",
    "\n",
    "\n",
    "\n",
    "# def auc_1(y_true, y_pred):\n",
    "#     auc = tf.keras.metrics.AUC(y_true, y_pred)[1]\n",
    "#     K.get_session().run(tf.local_variables_initializer())\n",
    "#     return auc\n",
    "# def auc_2(y_true, y_pred):\n",
    "#     return tf.compat.v1.py_func(roc_auc_score, (y_true, y_pred), tf.double)\n",
    "\n",
    "# def aucM_3(true, pred):\n",
    "\n",
    "#         #We want strictly 1D arrays - cannot have (batch, 1), for instance\n",
    "#     true= K.flatten(true)\n",
    "#     pred = K.flatten(pred)\n",
    "\n",
    "#         #total number of elements in this batch\n",
    "#     totalCount = K.shape(true)[0]\n",
    "\n",
    "#         #sorting the prediction values in descending order\n",
    "#     values, indices = tf.nn.top_k(pred, k = totalCount)   \n",
    "#         #sorting the ground truth values based on the predictions above         \n",
    "#     sortedTrue = K.gather(true, indices)\n",
    "\n",
    "#         #getting the ground negative elements (already sorted above)\n",
    "#     negatives = 1 - sortedTrue\n",
    "\n",
    "#         #the true positive count per threshold\n",
    "#     TPCurve = K.cumsum(sortedTrue)\n",
    "\n",
    "#         #area under the curve\n",
    "#     auc = K.sum(TPCurve * negatives)\n",
    "\n",
    "#        #normalizing the result between 0 and 1\n",
    "#     totalCount = K.cast(totalCount, K.floatx())\n",
    "#     positiveCount = K.sum(true)\n",
    "#     negativeCount = totalCount - positiveCount\n",
    "#     totalArea = positiveCount * negativeCount\n",
    "#     return  auc / totalArea\n",
    "\n"
   ]
  },
  {
   "cell_type": "markdown",
   "metadata": {
    "id": "a91f8-EXMKir"
   },
   "source": [
    "**initilizing auc function**"
   ]
  },
  {
   "cell_type": "code",
   "execution_count": null,
   "metadata": {
    "id": "VbhId0t6UDYg"
   },
   "outputs": [],
   "source": [
    "def auc( y_true, y_pred ) :\n",
    "    score = tf.numpy_function( lambda y_true, y_pred : roc_auc_score( y_true, y_pred, average='macro', sample_weight=None).astype('float32'),\n",
    "                        [y_true, y_pred],\n",
    "                        'float32',\n",
    "                        name='sklearnAUC' )\n",
    "    return score"
   ]
  },
  {
   "cell_type": "code",
   "execution_count": null,
   "metadata": {
    "id": "1wrpc3lULHpR"
   },
   "outputs": [],
   "source": [
    "# from tensorflow.python.keras.callbacks import TensorBoard\n",
    "import datetime\n",
    "%load_ext tensorboard\n"
   ]
  },
  {
   "cell_type": "code",
   "execution_count": null,
   "metadata": {
    "id": "Ryq3E7d6MKiw"
   },
   "outputs": [],
   "source": [
    "model.run_eagerly = True\n",
    "log_dir = \"logs/fit/\" + datetime.datetime.now().strftime(\"%Y%m%d-%H%M%S\")\n",
    "tensorboard = tf.keras.callbacks.TensorBoard(log_dir=log_dir)\n",
    "\n",
    "\n",
    "\n",
    "model_1.compile(optimizer=tf.keras.optimizers.Adam(learning_rate=0.0006, decay = 1e-4),\n",
    "              loss=\"categorical_crossentropy\",\n",
    "              metrics=['accuracy', auc])\n",
    "\n"
   ]
  },
  {
   "cell_type": "code",
   "execution_count": null,
   "metadata": {
    "colab": {
     "base_uri": "https://localhost:8080/"
    },
    "id": "yWUwZigOPDvR",
    "outputId": "90559bb2-b290-42f6-cc55-6b9cd1b9457a"
   },
   "outputs": [
    {
     "data": {
      "text/plain": [
       "(17480, 339)"
      ]
     },
     "execution_count": 60,
     "metadata": {},
     "output_type": "execute_result"
    }
   ],
   "source": [
    "text_padded_cv.shape"
   ]
  },
  {
   "cell_type": "code",
   "execution_count": null,
   "metadata": {
    "colab": {
     "base_uri": "https://localhost:8080/"
    },
    "id": "1p3nsIuOF-Xy",
    "outputId": "1892c0aa-0092-4e31-c49d-6fa6042b605a"
   },
   "outputs": [
    {
     "name": "stdout",
     "output_type": "stream",
     "text": [
      "Epoch 1/10\n",
      "273/274 [============================>.] - ETA: 0s - loss: 0.4012 - accuracy: 0.8471 - auc: 0.7071\n",
      "Epoch 1: val_auc improved from -inf to 0.71540, saving model to weights/weights_copy_new_23_2.best.hdf5\n",
      "274/274 [==============================] - 18s 65ms/step - loss: 0.4012 - accuracy: 0.8471 - auc: 0.7075 - val_loss: 0.3824 - val_accuracy: 0.8546 - val_auc: 0.7154\n",
      "Epoch 2/10\n",
      "273/274 [============================>.] - ETA: 0s - loss: 0.3898 - accuracy: 0.8480 - auc: 0.7290\n",
      "Epoch 2: val_auc improved from 0.71540 to 0.73215, saving model to weights/weights_copy_new_23_2.best.hdf5\n",
      "274/274 [==============================] - 19s 69ms/step - loss: 0.3897 - accuracy: 0.8480 - auc: 0.7294 - val_loss: 0.3775 - val_accuracy: 0.8557 - val_auc: 0.7322\n",
      "Epoch 3/10\n",
      "273/274 [============================>.] - ETA: 0s - loss: 0.3839 - accuracy: 0.8493 - auc: 0.7408\n",
      "Epoch 3: val_auc improved from 0.73215 to 0.73527, saving model to weights/weights_copy_new_23_2.best.hdf5\n",
      "274/274 [==============================] - 18s 65ms/step - loss: 0.3839 - accuracy: 0.8493 - auc: 0.7390 - val_loss: 0.3804 - val_accuracy: 0.8524 - val_auc: 0.7353\n",
      "Epoch 4/10\n",
      "273/274 [============================>.] - ETA: 0s - loss: 0.3797 - accuracy: 0.8503 - auc: 0.7482\n",
      "Epoch 4: val_auc improved from 0.73527 to 0.74429, saving model to weights/weights_copy_new_23_2.best.hdf5\n",
      "274/274 [==============================] - 18s 66ms/step - loss: 0.3797 - accuracy: 0.8503 - auc: 0.7485 - val_loss: 0.3728 - val_accuracy: 0.8527 - val_auc: 0.7443\n",
      "Epoch 5/10\n",
      "273/274 [============================>.] - ETA: 0s - loss: 0.3766 - accuracy: 0.8517 - auc: 0.7542\n",
      "Epoch 5: val_auc did not improve from 0.74429\n",
      "274/274 [==============================] - 19s 68ms/step - loss: 0.3765 - accuracy: 0.8518 - auc: 0.7550 - val_loss: 0.3757 - val_accuracy: 0.8606 - val_auc: 0.7431\n",
      "Epoch 6/10\n",
      "273/274 [============================>.] - ETA: 0s - loss: 0.3744 - accuracy: 0.8532 - auc: 0.7555\n",
      "Epoch 6: val_auc improved from 0.74429 to 0.74545, saving model to weights/weights_copy_new_23_2.best.hdf5\n",
      "274/274 [==============================] - 19s 69ms/step - loss: 0.3744 - accuracy: 0.8532 - auc: 0.7553 - val_loss: 0.3715 - val_accuracy: 0.8597 - val_auc: 0.7455\n",
      "Epoch 7/10\n",
      "273/274 [============================>.] - ETA: 0s - loss: 0.3718 - accuracy: 0.8522 - auc: 0.7595\n",
      "Epoch 7: val_auc improved from 0.74545 to 0.74628, saving model to weights/weights_copy_new_23_2.best.hdf5\n",
      "274/274 [==============================] - 18s 66ms/step - loss: 0.3719 - accuracy: 0.8522 - auc: 0.7596 - val_loss: 0.3683 - val_accuracy: 0.8580 - val_auc: 0.7463\n",
      "Epoch 8/10\n",
      "273/274 [============================>.] - ETA: 0s - loss: 0.3692 - accuracy: 0.8547 - auc: 0.7655\n",
      "Epoch 8: val_auc improved from 0.74628 to 0.74796, saving model to weights/weights_copy_new_23_2.best.hdf5\n",
      "274/274 [==============================] - 18s 67ms/step - loss: 0.3692 - accuracy: 0.8547 - auc: 0.7652 - val_loss: 0.3668 - val_accuracy: 0.8595 - val_auc: 0.7480\n",
      "Epoch 9/10\n",
      "273/274 [============================>.] - ETA: 0s - loss: 0.3675 - accuracy: 0.8543 - auc: 0.7680\n",
      "Epoch 9: val_auc improved from 0.74796 to 0.75218, saving model to weights/weights_copy_new_23_2.best.hdf5\n",
      "274/274 [==============================] - 18s 66ms/step - loss: 0.3676 - accuracy: 0.8543 - auc: 0.7680 - val_loss: 0.3658 - val_accuracy: 0.8600 - val_auc: 0.7522\n",
      "Epoch 10/10\n",
      "273/274 [============================>.] - ETA: 0s - loss: 0.3650 - accuracy: 0.8565 - auc: 0.7706\n",
      "Epoch 10: val_auc improved from 0.75218 to 0.75297, saving model to weights/weights_copy_new_23_2.best.hdf5\n",
      "274/274 [==============================] - 18s 66ms/step - loss: 0.3649 - accuracy: 0.8566 - auc: 0.7713 - val_loss: 0.3642 - val_accuracy: 0.8609 - val_auc: 0.7530\n"
     ]
    },
    {
     "data": {
      "text/plain": [
       "<keras.callbacks.History at 0x7f116f07ca50>"
      ]
     },
     "execution_count": 98,
     "metadata": {},
     "output_type": "execute_result"
    }
   ],
   "source": [
    "\n",
    "filepath=\"weights/weights_copy_new_23_2.best.hdf5\"\n",
    "\n",
    "earlystopping_1 = tf.keras.callbacks.EarlyStopping(monitor='val_loss', patience=4, verbose=1)\n",
    "\n",
    "checkpoint = tf.keras.callbacks.ModelCheckpoint(filepath, monitor='val_auc', verbose=1, save_best_only=True, mode='max')\n",
    "\n",
    "callbacks_list = [checkpoint,tensorboard,earlystopping_1]\n",
    "\n",
    "# my_callbacks = [tf.keras.callbacks.EarlyStopping(monitor='auc', patience=300, verbose=1, mode='max')]\n",
    "\n",
    "\n",
    "model_1.fit(\n",
    "            {\"total_text_input\": text_padded, 'state_input': column_train_data.state, \n",
    "              'grade_cate_input': column_train_data.project_grade_cate, 'cate_input': column_train_data.input_cate,\n",
    "              'sub_cate_input': column_train_data.input_sub_cate, 'tea_prefix':column_train_data.teacher_pre,\n",
    "              'posted_projects_wrt_teacher': numerical_data_train.teacher_number_of_previously_posted_projects},\n",
    "              {'output_label': y_train},\n",
    "              epochs = 30,\n",
    "              validation_data = ([text_padded_cv, column_cv_data.state, \n",
    "              column_cv_data.project_grade_cate, column_cv_data.input_cate,\n",
    "              column_cv_data.input_sub_cate, column_cv_data.teacher_pre,\n",
    "              numerical_data_cv.teacher_number_of_previously_posted_projects],y_cv ),\n",
    "\n",
    "              batch_size =256, callbacks=callbacks_list, verbose=1,\n",
    "    )\n",
    "# after 30 epoch we can see there is more than 75 auc score \n"
   ]
  },
  {
   "cell_type": "markdown",
   "metadata": {
    "id": "ocENE1bjWYG5"
   },
   "source": [
    "## 1.6 tensorboard "
   ]
  },
  {
   "cell_type": "code",
   "execution_count": null,
   "metadata": {
    "id": "pTZPBdJRWPqV"
   },
   "outputs": [],
   "source": [
    "# load tensorboard\n",
    "\n"
   ]
  },
  {
   "cell_type": "markdown",
   "metadata": {
    "id": "n01j3YAvMKi4"
   },
   "source": [
    "# <font color='red'> Model-2 </font>"
   ]
  },
  {
   "cell_type": "markdown",
   "metadata": {
    "id": "jmAnr8nfMKi5"
   },
   "source": [
    "Use the same model as above but for 'input_seq_total_text_data' give only some words in the sentance not all the words. Filter the words as below. "
   ]
  },
  {
   "cell_type": "markdown",
   "metadata": {
    "id": "oJt4DGZCMKi7"
   },
   "source": [
    "<pre>\n",
    "1. Fit TF-IDF vectorizer on the Train data <br>\n",
    "2. Get the idf value for each word we have in the train data. Please go through <a  href='https://stackoverflow.com/questions/23792781/tf-idf-feature-weights-using-sklearn-feature-extraction-text-tfidfvectorizer'>this</a><br>\n",
    "\n",
    "3. Do some analysis on the Idf values and based on those values choose the low and high threshold value. Because very \n",
    "frequent words and very very rare words don't give much information.\n",
    "Hint - A preferable IDF range is 2-11 for model 2. <br>\n",
    "4.Remove the low idf value and high idf value words from the train and test data. You can go through each of the\n",
    "sentence of train and test data and include only those features(words) which are present in the defined IDF range.\n",
    "5. Perform tokenization on the modified text data same as you have done for previous model.\n",
    "6. Create embedding matrix for model 2 and then use the rest of the features similar to previous model.\n",
    "7. Define the model, compile and fit the model.\n",
    "</pre>"
   ]
  },
  {
   "cell_type": "code",
   "execution_count": null,
   "metadata": {
    "id": "y_rWuBKTtdhJ"
   },
   "outputs": [],
   "source": []
  },
  {
   "cell_type": "markdown",
   "metadata": {
    "id": "w9lEvzcRteYK"
   },
   "source": [
    "#### pre_processing for model_2"
   ]
  },
  {
   "cell_type": "code",
   "execution_count": null,
   "metadata": {
    "colab": {
     "base_uri": "https://localhost:8080/"
    },
    "id": "vMPShYecMKi9",
    "outputId": "1650a0cb-7940-4d32-e3d2-a2cc8353fa09"
   },
   "outputs": [
    {
     "data": {
      "text/plain": [
       "47347"
      ]
     },
     "execution_count": 62,
     "metadata": {},
     "output_type": "execute_result"
    }
   ],
   "source": [
    "# 1. Fit TF-IDF vectorizer on the Train data \n",
    "\n",
    "from sklearn.feature_extraction.text import TfidfVectorizer\n",
    "\n",
    "vectorizer = TfidfVectorizer()\n",
    "vec_essay = vectorizer.fit_transform(X_train.essay)\n",
    "\n",
    "# 2. Get the idf value for each word we have in the train data.\n",
    "idf = vectorizer.idf_\n",
    "idf.size"
   ]
  },
  {
   "cell_type": "code",
   "execution_count": null,
   "metadata": {
    "colab": {
     "base_uri": "https://localhost:8080/"
    },
    "id": "oRapNbgzMKi_",
    "outputId": "12223c3b-cf7f-4ecf-fdee-b628f6cc35a2"
   },
   "outputs": [
    {
     "name": "stderr",
     "output_type": "stream",
     "text": [
      "/usr/local/lib/python3.7/dist-packages/sklearn/utils/deprecation.py:87: FutureWarning: Function get_feature_names is deprecated; get_feature_names is deprecated in 1.0 and will be removed in 1.2. Please use get_feature_names_out instead.\n",
      "  warnings.warn(msg, category=FutureWarning)\n"
     ]
    },
    {
     "data": {
      "text/plain": [
       "['00',\n",
       " '000',\n",
       " '001',\n",
       " '005nannan',\n",
       " '00am',\n",
       " '00p',\n",
       " '00pm',\n",
       " '01',\n",
       " '010',\n",
       " '01075rm']"
      ]
     },
     "execution_count": 63,
     "metadata": {},
     "output_type": "execute_result"
    }
   ],
   "source": [
    "vectorizer.get_feature_names()[:10]"
   ]
  },
  {
   "cell_type": "markdown",
   "metadata": {
    "id": "gzdSNfKzMKjD"
   },
   "source": [
    "3. Do some analysis on the Idf values and based on those values choose the low and high threshold value. Because very \n",
    "frequent words and very very rare words don't give much information.\n"
   ]
  },
  {
   "cell_type": "code",
   "execution_count": null,
   "metadata": {
    "colab": {
     "base_uri": "https://localhost:8080/"
    },
    "id": "Uc6NqnqdMKjJ",
    "outputId": "d90e3816-f783-4d93-e9c9-b9e272df9884"
   },
   "outputs": [
    {
     "data": {
      "image/png": "[encoded data removed]",
      "text/plain": [
       "<Figure size 432x288 with 1 Axes>"
      ]
     },
     "metadata": {
      "needs_background": "light"
     },
     "output_type": "display_data"
    }
   ],
   "source": [
    "# most of value are rare \n",
    "plt.hist(idf)\n",
    "plt.show()"
   ]
  },
  {
   "cell_type": "code",
   "execution_count": null,
   "metadata": {
    "colab": {
     "base_uri": "https://localhost:8080/"
    },
    "id": "2iy0ADzgMKjL",
    "outputId": "96400db7-6126-491a-e5d7-23a7939475d8"
   },
   "outputs": [
    {
     "data": {
      "text/plain": [
       "<function matplotlib.pyplot.show(*args, **kw)>"
      ]
     },
     "execution_count": 65,
     "metadata": {},
     "output_type": "execute_result"
    },
    {
     "data": {
      "image/png": "[encoded data removed]",
      "text/plain": [
       "<Figure size 432x288 with 1 Axes>"
      ]
     },
     "metadata": {
      "needs_background": "light"
     },
     "output_type": "display_data"
    }
   ],
   "source": [
    "plt.boxplot(idf)\n",
    "plt.show"
   ]
  },
  {
   "cell_type": "code",
   "execution_count": null,
   "metadata": {
    "colab": {
     "base_uri": "https://localhost:8080/"
    },
    "id": "DviuqJptMKjP",
    "outputId": "466748b0-42de-4e66-f532-149365b5f191"
   },
   "outputs": [
    {
     "name": "stderr",
     "output_type": "stream",
     "text": [
      "/usr/local/lib/python3.7/dist-packages/sklearn/utils/deprecation.py:87: FutureWarning: Function get_feature_names is deprecated; get_feature_names is deprecated in 1.0 and will be removed in 1.2. Please use get_feature_names_out instead.\n",
      "  warnings.warn(msg, category=FutureWarning)\n"
     ]
    },
    {
     "data": {
      "text/plain": [
       "4366"
      ]
     },
     "execution_count": 66,
     "metadata": {},
     "output_type": "execute_result"
    }
   ],
   "source": [
    "# removing most frequent and rare word\n",
    "\n",
    "vectorizer = TfidfVectorizer(min_df = 6, max_df = 11) # hypertune\n",
    "vec_essay = vectorizer.fit_transform(X_train.essay)\n",
    "\n",
    "idf = vectorizer.idf_\n",
    "\n",
    "dict_word_idf = dict(zip(vectorizer.get_feature_names(), idf))\n",
    "\n",
    "idf.size"
   ]
  },
  {
   "cell_type": "code",
   "execution_count": null,
   "metadata": {
    "colab": {
     "base_uri": "https://localhost:8080/"
    },
    "id": "XXpSeLROMKjT",
    "outputId": "8ed82391-1f40-46de-80c6-b29c40f801fc"
   },
   "outputs": [
    {
     "data": {
      "text/plain": [
       "4366"
      ]
     },
     "execution_count": 67,
     "metadata": {},
     "output_type": "execute_result"
    }
   ],
   "source": [
    "len(dict_word_idf)"
   ]
  },
  {
   "cell_type": "code",
   "execution_count": null,
   "metadata": {
    "colab": {
     "base_uri": "https://localhost:8080/"
    },
    "id": "Z2FvSfj3MKj1",
    "outputId": "27ce6f66-c926-44b7-ed43-d4c5251f9202"
   },
   "outputs": [
    {
     "data": {
      "text/plain": [
       "<function matplotlib.pyplot.show(*args, **kw)>"
      ]
     },
     "execution_count": 68,
     "metadata": {},
     "output_type": "execute_result"
    },
    {
     "data": {
      "image/png": "[encoded data removed]",
      "text/plain": [
       "<Figure size 432x288 with 1 Axes>"
      ]
     },
     "metadata": {
      "needs_background": "light"
     },
     "output_type": "display_data"
    }
   ],
   "source": [
    "plt.boxplot(idf)\n",
    "plt.show"
   ]
  },
  {
   "cell_type": "code",
   "execution_count": null,
   "metadata": {
    "id": "v0WeuBmiMKj8"
   },
   "outputs": [],
   "source": [
    "# 4.Remove the low idf value and high idf value words from the train and test data. You can go through each of the\n",
    "# sentence of train and test data and include only those features(words) which are present in the defined IDF range.\n",
    "# X_train.essay\n",
    "X_train = X_train.reset_index(drop=True)\n",
    "\n",
    "filtered_essay = []\n",
    "\n",
    "for i in range(len(X_train.essay)):\n",
    "    row = X_train.essay[i]\n",
    "    f_row  = \" \".join([x for x in row.split(' ') if x in dict_word_idf.keys()])\n",
    "\n",
    "    filtered_essay.append(row)\n",
    "    "
   ]
  },
  {
   "cell_type": "code",
   "execution_count": null,
   "metadata": {
    "id": "98lGYZQpMKj-"
   },
   "outputs": [],
   "source": [
    "# filtered_essay[0]"
   ]
  },
  {
   "cell_type": "code",
   "execution_count": null,
   "metadata": {
    "id": "NhXk6xBxMKkB"
   },
   "outputs": [],
   "source": [
    "\n",
    "# 5. Perform tokenization on the modified text data same as you have done for previous model.\n",
    "\n",
    "vocab_size = 50000\n",
    "tokenizer = Tokenizer(num_words=vocab_size, oov_token=oov_token)\n",
    "tokenizer.fit_on_texts(filtered_essay)\n",
    "word_corpus = tokenizer.word_index\n",
    "\n",
    "# Encode training data sentences into sequences\n",
    "essay_sequences = tokenizer.texts_to_sequences(filtered_essay)\n",
    "essay_sequences_cv = tokenizer.texts_to_sequences(X_cv.essay)\n",
    "essay_sequences_te = tokenizer.texts_to_sequences(X_test.essay)\n",
    "\n",
    "maxlen = max([len(x) for x in essay_sequences])\n",
    "\n",
    "# Pad the training sequences\n",
    "text_padded_2 = pad_sequences(essay_sequences, padding=pad_type, truncating=trunc_type, maxlen=maxlen)\n",
    "text_padded_2_cv = pad_sequences(essay_sequences_cv, padding=pad_type, truncating=trunc_type, maxlen=maxlen)\n",
    "text_padded_2_te = pad_sequences(essay_sequences_te, padding=pad_type, truncating=trunc_type, maxlen=maxlen)\n",
    "\n"
   ]
  },
  {
   "cell_type": "code",
   "execution_count": null,
   "metadata": {
    "colab": {
     "base_uri": "https://localhost:8080/"
    },
    "id": "f4-0ZM1hMKkF",
    "outputId": "dbab0e91-b35e-42af-ac3b-5b7823d60399"
   },
   "outputs": [
    {
     "data": {
      "text/plain": [
       "(339, 47384)"
      ]
     },
     "execution_count": 72,
     "metadata": {},
     "output_type": "execute_result"
    }
   ],
   "source": [
    "text_padded_2[0].size, len(word_corpus)"
   ]
  },
  {
   "cell_type": "code",
   "execution_count": null,
   "metadata": {
    "id": "pfOtDut9MKkI"
   },
   "outputs": [],
   "source": [
    "\n",
    "# 6. Create embedding matrix for model 2 and then use the rest of the features similar to previous model.\n",
    "\n",
    "\n",
    "\n",
    "vocab_size = len(tokenizer.word_index)+1 # 51671\n",
    "\n",
    "# create a weight matrix for words in training docs\n",
    "embedding_matrix = np.zeros((vocab_size, 300))\n",
    "\n",
    "for word, i in tokenizer.word_index.items():\n",
    "    embedding_vector = dict_glove_vectors.get(word)\n",
    "    \n",
    "    if embedding_vector is not None:\n",
    "        embedding_matrix[i] = embedding_vector\n",
    "\n",
    "        \n"
   ]
  },
  {
   "cell_type": "code",
   "execution_count": null,
   "metadata": {
    "colab": {
     "base_uri": "https://localhost:8080/"
    },
    "id": "gvGXCuZbMKkK",
    "outputId": "e82f389c-bfd2-4f27-e867-2ad5e4b9c402"
   },
   "outputs": [
    {
     "data": {
      "text/plain": [
       "(47385, 300)"
      ]
     },
     "execution_count": 74,
     "metadata": {},
     "output_type": "execute_result"
    }
   ],
   "source": [
    "embedding_matrix.shape"
   ]
  },
  {
   "cell_type": "markdown",
   "metadata": {
    "id": "J_k8twqXMKkO"
   },
   "source": [
    "\n",
    "#### 7. Define the model, compile and fit the model."
   ]
  },
  {
   "cell_type": "code",
   "execution_count": null,
   "metadata": {
    "id": "bmfJhDwBMKkQ"
   },
   "outputs": [],
   "source": [
    "# ref for multi input and output: https://keras.io/guides/functional_api/#:~:text=complex%20graph%20topologies-,Models%20with%20multiple%20inputs%20and%20outputs,-The%20functional%20API\n",
    "tf.keras.backend.clear_session()\n",
    "\n",
    "total_text_input = Input(shape=(text_padded_2.shape[1],), name=\"total_text_input\")  # Variable-length sequence of ints\n",
    "\n",
    "state_input = Input(shape=(1,), name=\"state_input\")  # Variable-length sequence of ints\n",
    "grade_cate_input = Input(shape=(1,), name=\"grade_cate_input\")  # Variable-length sequence of ints\n",
    "cate_input = Input(shape=(1,), name=\"cate_input\")  # Variable-length sequence of ints\n",
    "sub_cate_input = Input(shape=(1,), name=\"sub_cate_input\")  # Variable-length sequence of ints\n",
    "tea_prefix_input = Input(shape=(1,), name=\"tea_prefix\")  # Variable-length sequence of ints\n",
    "posted_projects_wrt_teacher = Input(shape=(1,), name=\"posted_projects_wrt_teacher\")\n",
    "\n",
    "\n",
    "# Embed each word into a 300-dimensional vector\n",
    "vocab_size = len(word_corpus)+1\n",
    "emd_text_data = layers.Embedding(vocab_size, 300, weights=[embedding_matrix],\n",
    "                                  input_length=text_padded_2.shape[1], trainable=False, name='emd_text_data')(total_text_input)\n",
    "\n",
    "# Embed each word into a 2-dimensional vector\n",
    "vocab_size = column_train_data.state.unique().size+1\n",
    "emd_state_data = layers.Embedding(vocab_size, 2, input_length = 1, name= 'emd_state_data')(state_input)\n",
    "\n",
    "vocab_size = column_train_data.project_grade_cate.unique().size+1\n",
    "emd_PGC_data = layers.Embedding(vocab_size, 2, input_length = 1, name= 'emd_PGC_data')(grade_cate_input)\n",
    "\n",
    "vocab_size = column_train_data.input_cate.unique().size+1\n",
    "emd_clean_cate_data = layers.Embedding(vocab_size, 2, input_length = 1, name= 'emd_clean_cate_data')(cate_input)\n",
    "\n",
    "vocab_size = column_train_data.input_sub_cate.unique().size+1\n",
    "emd_clean_subcate_data = layers.Embedding(vocab_size, 2, input_length = 1, name= 'emd_clean_subcate_data')(sub_cate_input)\n",
    "\n",
    "vocab_size = column_train_data.teacher_pre.unique().size+1\n",
    "emd_tea_prefix_data = layers.Embedding(vocab_size, 2, input_length = 1, name= 'emd_tea_prefix_data')(tea_prefix_input)\n",
    "\n",
    "\n",
    "# Reduce sequence of embedded words in the title into a single 128-dimensional vector\n",
    "lstm = layers.LSTM(128)(emd_text_data)\n",
    "\n",
    "\n",
    "\n",
    "# flatten\n",
    "flaten_0 = Flatten()(lstm) \n",
    "flaten_1 = Flatten()(emd_state_data) \n",
    "flaten_2 = Flatten()(emd_PGC_data) \n",
    "flaten_3 = Flatten()(emd_clean_cate_data) \n",
    "flaten_4 = Flatten()(emd_clean_subcate_data) \n",
    "flaten_5 = Flatten()(emd_tea_prefix_data) \n",
    "\n",
    "# dense\n",
    "dense_for_rme_input = Dense(25,)(posted_projects_wrt_teacher)\n",
    "\n",
    "# Merge all available features into a single large vector via concatenation\n",
    "x = layers.concatenate([flaten_0, flaten_1, flaten_2, flaten_3, flaten_4, flaten_5, dense_for_rme_input])\n",
    "\n",
    "dense_after_conv = Dense(120)(x)\n",
    "\n",
    "dropout_1 = Dropout(0.5)(dense_after_conv)\n",
    "\n",
    "dense_2 = Dense(60)(dropout_1)\n",
    "\n",
    "dropout_2 = Dropout(0.5)(dense_2)\n",
    "\n",
    "dense_2 = Dense(30)(dropout_2)\n",
    " \n",
    "output_layer = Dense(2, activation = 'softmax', name= 'output_label')(dense_2)\n",
    "\n",
    "model_2 = Model(inputs = [total_text_input,state_input, grade_cate_input, cate_input, sub_cate_input\n",
    "                               , tea_prefix_input, posted_projects_wrt_teacher ], \n",
    "                    outputs = [output_layer])\n"
   ]
  },
  {
   "cell_type": "code",
   "execution_count": null,
   "metadata": {
    "colab": {
     "base_uri": "https://localhost:8080/"
    },
    "id": "BYVfXY_IMKkT",
    "outputId": "ae3a1a76-0e20-4ed2-911f-adbda0db9846"
   },
   "outputs": [
    {
     "data": {
      "image/png": "[encoded data removed]",
      "text/plain": [
       "<IPython.core.display.Image object>"
      ]
     },
     "execution_count": 76,
     "metadata": {},
     "output_type": "execute_result"
    }
   ],
   "source": [
    "tf.keras.utils.plot_model(model_2, \"multi_input_and_output_model.png\", show_shapes=True)\n"
   ]
  },
  {
   "cell_type": "code",
   "execution_count": null,
   "metadata": {
    "colab": {
     "base_uri": "https://localhost:8080/"
    },
    "id": "detEztxBMKkX",
    "outputId": "1139321a-e724-423d-db71-0104ed4fc52c"
   },
   "outputs": [
    {
     "name": "stdout",
     "output_type": "stream",
     "text": [
      "Model: \"model\"\n",
      "__________________________________________________________________________________________________\n",
      " Layer (type)                   Output Shape         Param #     Connected to                     \n",
      "==================================================================================================\n",
      " total_text_input (InputLayer)  [(None, 339)]        0           []                               \n",
      "                                                                                                  \n",
      " emd_text_data (Embedding)      (None, 339, 300)     14215500    ['total_text_input[0][0]']       \n",
      "                                                                                                  \n",
      " state_input (InputLayer)       [(None, 1)]          0           []                               \n",
      "                                                                                                  \n",
      " grade_cate_input (InputLayer)  [(None, 1)]          0           []                               \n",
      "                                                                                                  \n",
      " cate_input (InputLayer)        [(None, 1)]          0           []                               \n",
      "                                                                                                  \n",
      " sub_cate_input (InputLayer)    [(None, 1)]          0           []                               \n",
      "                                                                                                  \n",
      " tea_prefix (InputLayer)        [(None, 1)]          0           []                               \n",
      "                                                                                                  \n",
      " lstm (LSTM)                    (None, 128)          219648      ['emd_text_data[0][0]']          \n",
      "                                                                                                  \n",
      " emd_state_data (Embedding)     (None, 1, 2)         102         ['state_input[0][0]']            \n",
      "                                                                                                  \n",
      " emd_PGC_data (Embedding)       (None, 1, 2)         10          ['grade_cate_input[0][0]']       \n",
      "                                                                                                  \n",
      " emd_clean_cate_data (Embedding  (None, 1, 2)        104         ['cate_input[0][0]']             \n",
      " )                                                                                                \n",
      "                                                                                                  \n",
      " emd_clean_subcate_data (Embedd  (None, 1, 2)        774         ['sub_cate_input[0][0]']         \n",
      " ing)                                                                                             \n",
      "                                                                                                  \n",
      " emd_tea_prefix_data (Embedding  (None, 1, 2)        10          ['tea_prefix[0][0]']             \n",
      " )                                                                                                \n",
      "                                                                                                  \n",
      " posted_projects_wrt_teacher (I  [(None, 1)]         0           []                               \n",
      " nputLayer)                                                                                       \n",
      "                                                                                                  \n",
      " flatten (Flatten)              (None, 128)          0           ['lstm[0][0]']                   \n",
      "                                                                                                  \n",
      " flatten_1 (Flatten)            (None, 2)            0           ['emd_state_data[0][0]']         \n",
      "                                                                                                  \n",
      " flatten_2 (Flatten)            (None, 2)            0           ['emd_PGC_data[0][0]']           \n",
      "                                                                                                  \n",
      " flatten_3 (Flatten)            (None, 2)            0           ['emd_clean_cate_data[0][0]']    \n",
      "                                                                                                  \n",
      " flatten_4 (Flatten)            (None, 2)            0           ['emd_clean_subcate_data[0][0]'] \n",
      "                                                                                                  \n",
      " flatten_5 (Flatten)            (None, 2)            0           ['emd_tea_prefix_data[0][0]']    \n",
      "                                                                                                  \n",
      " dense (Dense)                  (None, 25)           50          ['posted_projects_wrt_teacher[0][\n",
      "                                                                 0]']                             \n",
      "                                                                                                  \n",
      " concatenate (Concatenate)      (None, 163)          0           ['flatten[0][0]',                \n",
      "                                                                  'flatten_1[0][0]',              \n",
      "                                                                  'flatten_2[0][0]',              \n",
      "                                                                  'flatten_3[0][0]',              \n",
      "                                                                  'flatten_4[0][0]',              \n",
      "                                                                  'flatten_5[0][0]',              \n",
      "                                                                  'dense[0][0]']                  \n",
      "                                                                                                  \n",
      " dense_1 (Dense)                (None, 120)          19680       ['concatenate[0][0]']            \n",
      "                                                                                                  \n",
      " dropout (Dropout)              (None, 120)          0           ['dense_1[0][0]']                \n",
      "                                                                                                  \n",
      " dense_2 (Dense)                (None, 60)           7260        ['dropout[0][0]']                \n",
      "                                                                                                  \n",
      " dropout_1 (Dropout)            (None, 60)           0           ['dense_2[0][0]']                \n",
      "                                                                                                  \n",
      " dense_3 (Dense)                (None, 30)           1830        ['dropout_1[0][0]']              \n",
      "                                                                                                  \n",
      " output_label (Dense)           (None, 2)            62          ['dense_3[0][0]']                \n",
      "                                                                                                  \n",
      "==================================================================================================\n",
      "Total params: 14,465,030\n",
      "Trainable params: 249,530\n",
      "Non-trainable params: 14,215,500\n",
      "__________________________________________________________________________________________________\n"
     ]
    }
   ],
   "source": [
    "model_2.summary()"
   ]
  },
  {
   "cell_type": "markdown",
   "metadata": {
    "id": "oJ4ptIHyMKkb"
   },
   "source": [
    "### compile and fit"
   ]
  },
  {
   "cell_type": "code",
   "execution_count": null,
   "metadata": {
    "id": "3tU70gnUMKkk"
   },
   "outputs": [],
   "source": [
    "model_2.compile(optimizer=tf.keras.optimizers.Adam(learning_rate=1e-3),\n",
    "              loss=\"categorical_crossentropy\",\n",
    "              metrics=['accuracy', auc])\n",
    "\n",
    "my_callbacks = [tf.keras.callbacks.EarlyStopping(monitor='auc', patience=300, verbose=1, mode='max')]\n",
    "\n"
   ]
  },
  {
   "cell_type": "code",
   "execution_count": null,
   "metadata": {
    "colab": {
     "base_uri": "https://localhost:8080/"
    },
    "id": "x3qcxCx3MKkn",
    "outputId": "a02a1be3-51a8-495a-f024-68122daa6d28"
   },
   "outputs": [
    {
     "name": "stdout",
     "output_type": "stream",
     "text": [
      "Epoch 1/15\n",
      "277/278 [============================>.] - ETA: 0s - loss: 0.3768 - accuracy: 0.8495 - auc: 0.7399\n",
      "Epoch 1: val_auc improved from -inf to 0.73368, saving model to weights/weights_copy_model_2.best.hdf5\n",
      "278/278 [==============================] - 18s 65ms/step - loss: 0.3768 - accuracy: 0.8495 - auc: 0.7402 - val_loss: 0.3734 - val_accuracy: 0.8443 - val_auc: 0.7337\n",
      "Epoch 2/15\n",
      "277/278 [============================>.] - ETA: 0s - loss: 0.3676 - accuracy: 0.8521 - auc: 0.7567\n",
      "Epoch 2: val_auc improved from 0.73368 to 0.74473, saving model to weights/weights_copy_model_2.best.hdf5\n",
      "278/278 [==============================] - 18s 65ms/step - loss: 0.3675 - accuracy: 0.8521 - auc: 0.7565 - val_loss: 0.3639 - val_accuracy: 0.8528 - val_auc: 0.7447\n",
      "Epoch 3/15\n",
      "277/278 [============================>.] - ETA: 0s - loss: 0.3579 - accuracy: 0.8549 - auc: 0.7728\n",
      "Epoch 3: val_auc improved from 0.74473 to 0.74771, saving model to weights/weights_copy_model_2.best.hdf5\n",
      "278/278 [==============================] - 18s 65ms/step - loss: 0.3579 - accuracy: 0.8549 - auc: 0.7729 - val_loss: 0.3659 - val_accuracy: 0.8494 - val_auc: 0.7477\n",
      "Epoch 4/15\n",
      "277/278 [============================>.] - ETA: 0s - loss: 0.3514 - accuracy: 0.8577 - auc: 0.7837\n",
      "Epoch 4: val_auc improved from 0.74771 to 0.75054, saving model to weights/weights_copy_model_2.best.hdf5\n",
      "278/278 [==============================] - 17s 62ms/step - loss: 0.3514 - accuracy: 0.8576 - auc: 0.7836 - val_loss: 0.3624 - val_accuracy: 0.8575 - val_auc: 0.7505\n",
      "Epoch 5/15\n",
      "277/278 [============================>.] - ETA: 0s - loss: 0.3439 - accuracy: 0.8625 - auc: 0.7951\n",
      "Epoch 5: val_auc did not improve from 0.75054\n",
      "278/278 [==============================] - 18s 65ms/step - loss: 0.3441 - accuracy: 0.8624 - auc: 0.7950 - val_loss: 0.3644 - val_accuracy: 0.8578 - val_auc: 0.7493\n",
      "Epoch 6/15\n",
      "277/278 [============================>.] - ETA: 0s - loss: 0.3348 - accuracy: 0.8652 - auc: 0.8075\n",
      "Epoch 6: val_auc did not improve from 0.75054\n",
      "278/278 [==============================] - 17s 62ms/step - loss: 0.3349 - accuracy: 0.8651 - auc: 0.8075 - val_loss: 0.3682 - val_accuracy: 0.8541 - val_auc: 0.7468\n",
      "Epoch 7/15\n",
      "277/278 [============================>.] - ETA: 0s - loss: 0.3260 - accuracy: 0.8731 - auc: 0.8191\n",
      "Epoch 7: val_auc did not improve from 0.75054\n",
      "278/278 [==============================] - 18s 66ms/step - loss: 0.3259 - accuracy: 0.8731 - auc: 0.8194 - val_loss: 0.3783 - val_accuracy: 0.8493 - val_auc: 0.7470\n",
      "Epoch 8/15\n",
      "277/278 [============================>.] - ETA: 0s - loss: 0.3144 - accuracy: 0.8783 - auc: 0.8334\n",
      "Epoch 8: val_auc did not improve from 0.75054\n",
      "278/278 [==============================] - 18s 66ms/step - loss: 0.3145 - accuracy: 0.8783 - auc: 0.8330 - val_loss: 0.3750 - val_accuracy: 0.8513 - val_auc: 0.7335\n",
      "Epoch 8: early stopping\n"
     ]
    },
    {
     "data": {
      "text/plain": [
       "<keras.callbacks.History at 0x7f116eaa5ad0>"
      ]
     },
     "execution_count": 100,
     "metadata": {},
     "output_type": "execute_result"
    }
   ],
   "source": [
    "model.run_eagerly = True\n",
    "log_dir = \"logs/fit_2/\" + datetime.datetime.now().strftime(\"%Y%m%d-%H%M%S\")\n",
    "tensorboard = tf.keras.callbacks.TensorBoard(log_dir=log_dir)\n",
    "\n",
    "\n",
    "filepath=\"weights/weights_copy_model_2.best.hdf5\"\n",
    "\n",
    "earlystopping_1 = tf.keras.callbacks.EarlyStopping(monitor='val_loss', patience=4, verbose=1)\n",
    "\n",
    "checkpoint = tf.keras.callbacks.ModelCheckpoint(filepath, monitor='val_auc', verbose=1, save_best_only=True, mode='max')\n",
    "\n",
    "callbacks_list = [checkpoint,tensorboard,earlystopping_1]\n",
    "\n",
    "\n",
    "model_2.fit(\n",
    "            {\"total_text_input\": text_padded_2, 'state_input': column_train_data.state, \n",
    "              'grade_cate_input': column_train_data.project_grade_cate, 'cate_input': column_train_data.input_cate,\n",
    "              'sub_cate_input': column_train_data.input_sub_cate, 'tea_prefix':column_train_data.teacher_pre,\n",
    "              'posted_projects_wrt_teacher': numerical_data_train.teacher_number_of_previously_posted_projects},\n",
    "              {'output_label': y_train},\n",
    "              epochs = 20,\n",
    "              validation_data = ([text_padded_2_cv, column_cv_data.state, \n",
    "              column_cv_data.project_grade_cate, column_cv_data.input_cate,\n",
    "              column_cv_data.input_sub_cate, column_cv_data.teacher_pre,\n",
    "              numerical_data_cv.teacher_number_of_previously_posted_projects],y_cv ),\n",
    "            \n",
    "              batch_size =252, callbacks=callbacks_list, verbose=1,\n",
    "    )\n",
    "# 20 epoch gives more than  .73 auc score for val_x "
   ]
  },
  {
   "cell_type": "markdown",
   "metadata": {
    "id": "WRp7CYPAMKku"
   },
   "source": [
    "# <font color='red'> Model-3 </font>"
   ]
  },
  {
   "cell_type": "markdown",
   "metadata": {
    "id": "I3iZS4u2MKkx"
   },
   "source": [
    "<img src='https://i.imgur.com/fkQ8nGo.png'>\n",
    "ref: https://i.imgur.com/fkQ8nGo.png"
   ]
  },
  {
   "cell_type": "code",
   "execution_count": null,
   "metadata": {
    "id": "GdpUaqAgMKkz"
   },
   "outputs": [],
   "source": [
    "#in this model you can use the text vectorized data from model1 \n",
    "#for other than text data consider the following steps\n",
    "# you have to perform one hot encoding of categorical features. You can use onehotencoder() or countvectorizer() for the same.\n",
    "# Stack up standardised numerical features and all the one hot encoded categorical features\n",
    "#the input to conv1d layer is 3d, you can convert your 2d data to 3d using np.newaxis\n",
    "# Note - deep learning models won't work with sparse features, you have to convert them to dense features before fitting in the model."
   ]
  },
  {
   "cell_type": "markdown",
   "metadata": {
    "id": "DfRcrSYOMKk0"
   },
   "source": [
    "### 3.1 **pre-processing for model_3**"
   ]
  },
  {
   "cell_type": "code",
   "execution_count": null,
   "metadata": {
    "colab": {
     "base_uri": "https://localhost:8080/",
     "height": 270
    },
    "id": "tiNrPqLVMKlA",
    "outputId": "3db2e648-5a38-4a71-8499-34b9234863e8"
   },
   "outputs": [
    {
     "data": {
      "text/html": [
       "\n",
       "  <div id=\"df-6ed428ce-3771-45dc-8f84-64f87e8560d0\">\n",
       "    <div class=\"colab-df-container\">\n",
       "      <div>\n",
       "<style scoped>\n",
       "    .dataframe tbody tr th:only-of-type {\n",
       "        vertical-align: middle;\n",
       "    }\n",
       "\n",
       "    .dataframe tbody tr th {\n",
       "        vertical-align: top;\n",
       "    }\n",
       "\n",
       "    .dataframe thead th {\n",
       "        text-align: right;\n",
       "    }\n",
       "</style>\n",
       "<table border=\"1\" class=\"dataframe\">\n",
       "  <thead>\n",
       "    <tr style=\"text-align: right;\">\n",
       "      <th></th>\n",
       "      <th>state</th>\n",
       "      <th>project_grade_cate</th>\n",
       "      <th>input_cate</th>\n",
       "      <th>teacher_pre</th>\n",
       "      <th>input_sub_cate</th>\n",
       "      <th>teacher_number_of_previously_posted_projects</th>\n",
       "      <th>price</th>\n",
       "    </tr>\n",
       "  </thead>\n",
       "  <tbody>\n",
       "    <tr>\n",
       "      <th>0</th>\n",
       "      <td>26</td>\n",
       "      <td>4</td>\n",
       "      <td>47</td>\n",
       "      <td>3</td>\n",
       "      <td>378</td>\n",
       "      <td>-0.327464</td>\n",
       "      <td>0.045019</td>\n",
       "    </tr>\n",
       "    <tr>\n",
       "      <th>1</th>\n",
       "      <td>2</td>\n",
       "      <td>3</td>\n",
       "      <td>9</td>\n",
       "      <td>3</td>\n",
       "      <td>259</td>\n",
       "      <td>-0.042189</td>\n",
       "      <td>6.710484</td>\n",
       "    </tr>\n",
       "    <tr>\n",
       "      <th>2</th>\n",
       "      <td>5</td>\n",
       "      <td>4</td>\n",
       "      <td>9</td>\n",
       "      <td>2</td>\n",
       "      <td>278</td>\n",
       "      <td>-0.363123</td>\n",
       "      <td>-0.563569</td>\n",
       "    </tr>\n",
       "    <tr>\n",
       "      <th>3</th>\n",
       "      <td>9</td>\n",
       "      <td>4</td>\n",
       "      <td>25</td>\n",
       "      <td>2</td>\n",
       "      <td>307</td>\n",
       "      <td>-0.291804</td>\n",
       "      <td>-0.653984</td>\n",
       "    </tr>\n",
       "    <tr>\n",
       "      <th>4</th>\n",
       "      <td>4</td>\n",
       "      <td>4</td>\n",
       "      <td>49</td>\n",
       "      <td>2</td>\n",
       "      <td>380</td>\n",
       "      <td>-0.363123</td>\n",
       "      <td>0.288135</td>\n",
       "    </tr>\n",
       "  </tbody>\n",
       "</table>\n",
       "</div>\n",
       "      <button class=\"colab-df-convert\" onclick=\"convertToInteractive('df-6ed428ce-3771-45dc-8f84-64f87e8560d0')\"\n",
       "              title=\"Convert this dataframe to an interactive table.\"\n",
       "              style=\"display:none;\">\n",
       "        \n",
       "  <svg xmlns=\"http://www.w3.org/2000/svg\" height=\"24px\"viewBox=\"0 0 24 24\"\n",
       "       width=\"24px\">\n",
       "    <path d=\"M0 0h24v24H0V0z\" fill=\"none\"/>\n",
       "    <path d=\"M18.56 5.44l.94 2.06.94-2.06 2.06-.94-2.06-.94-.94-2.06-.94 2.06-2.06.94zm-11 1L8.5 8.5l.94-2.06 2.06-.94-2.06-.94L8.5 2.5l-.94 2.06-2.06.94zm10 10l.94 2.06.94-2.06 2.06-.94-2.06-.94-.94-2.06-.94 2.06-2.06.94z\"/><path d=\"M17.41 7.96l-1.37-1.37c-.4-.4-.92-.59-1.43-.59-.52 0-1.04.2-1.43.59L10.3 9.45l-7.72 7.72c-.78.78-.78 2.05 0 2.83L4 21.41c.39.39.9.59 1.41.59.51 0 1.02-.2 1.41-.59l7.78-7.78 2.81-2.81c.8-.78.8-2.07 0-2.86zM5.41 20L4 18.59l7.72-7.72 1.47 1.35L5.41 20z\"/>\n",
       "  </svg>\n",
       "      </button>\n",
       "      \n",
       "  <style>\n",
       "    .colab-df-container {\n",
       "      display:flex;\n",
       "      flex-wrap:wrap;\n",
       "      gap: 12px;\n",
       "    }\n",
       "\n",
       "    .colab-df-convert {\n",
       "      background-color: #E8F0FE;\n",
       "      border: none;\n",
       "      border-radius: 50%;\n",
       "      cursor: pointer;\n",
       "      display: none;\n",
       "      fill: #1967D2;\n",
       "      height: 32px;\n",
       "      padding: 0 0 0 0;\n",
       "      width: 32px;\n",
       "    }\n",
       "\n",
       "    .colab-df-convert:hover {\n",
       "      background-color: #E2EBFA;\n",
       "      box-shadow: 0px 1px 2px rgba(60, 64, 67, 0.3), 0px 1px 3px 1px rgba(60, 64, 67, 0.15);\n",
       "      fill: #174EA6;\n",
       "    }\n",
       "\n",
       "    [theme=dark] .colab-df-convert {\n",
       "      background-color: #3B4455;\n",
       "      fill: #D2E3FC;\n",
       "    }\n",
       "\n",
       "    [theme=dark] .colab-df-convert:hover {\n",
       "      background-color: #434B5C;\n",
       "      box-shadow: 0px 1px 3px 1px rgba(0, 0, 0, 0.15);\n",
       "      filter: drop-shadow(0px 1px 2px rgba(0, 0, 0, 0.3));\n",
       "      fill: #FFFFFF;\n",
       "    }\n",
       "  </style>\n",
       "\n",
       "      <script>\n",
       "        const buttonEl =\n",
       "          document.querySelector('#df-6ed428ce-3771-45dc-8f84-64f87e8560d0 button.colab-df-convert');\n",
       "        buttonEl.style.display =\n",
       "          google.colab.kernel.accessAllowed ? 'block' : 'none';\n",
       "\n",
       "        async function convertToInteractive(key) {\n",
       "          const element = document.querySelector('#df-6ed428ce-3771-45dc-8f84-64f87e8560d0');\n",
       "          const dataTable =\n",
       "            await google.colab.kernel.invokeFunction('convertToInteractive',\n",
       "                                                     [key], {});\n",
       "          if (!dataTable) return;\n",
       "\n",
       "          const docLinkHtml = 'Like what you see? Visit the ' +\n",
       "            '<a target=\"_blank\" href=https://colab.research.google.com/notebooks/data_table.ipynb>data table notebook</a>'\n",
       "            + ' to learn more about interactive tables.';\n",
       "          element.innerHTML = '';\n",
       "          dataTable['output_type'] = 'display_data';\n",
       "          await google.colab.output.renderOutput(dataTable, element);\n",
       "          const docLink = document.createElement('div');\n",
       "          docLink.innerHTML = docLinkHtml;\n",
       "          element.appendChild(docLink);\n",
       "        }\n",
       "      </script>\n",
       "    </div>\n",
       "  </div>\n",
       "  "
      ],
      "text/plain": [
       "   state  project_grade_cate  input_cate  teacher_pre  input_sub_cate  \\\n",
       "0     26                   4          47            3             378   \n",
       "1      2                   3           9            3             259   \n",
       "2      5                   4           9            2             278   \n",
       "3      9                   4          25            2             307   \n",
       "4      4                   4          49            2             380   \n",
       "\n",
       "   teacher_number_of_previously_posted_projects     price  \n",
       "0                                     -0.327464  0.045019  \n",
       "1                                     -0.042189  6.710484  \n",
       "2                                     -0.363123 -0.563569  \n",
       "3                                     -0.291804 -0.653984  \n",
       "4                                     -0.363123  0.288135  "
      ]
     },
     "execution_count": 111,
     "metadata": {},
     "output_type": "execute_result"
    }
   ],
   "source": [
    "price = x_tr_df[['price']]\n",
    "teacher_posted_projects = x_tr_df[['teacher_number_of_previously_posted_projects']]\n",
    "\n",
    "price_te = x_te_df[['price']]\n",
    "teacher_posted_projects_te = x_te_df[['teacher_number_of_previously_posted_projects']]\n",
    "\n",
    "\n",
    "x_tr_df.head()"
   ]
  },
  {
   "cell_type": "code",
   "execution_count": null,
   "metadata": {
    "colab": {
     "base_uri": "https://localhost:8080/",
     "height": 249
    },
    "id": "gRQT5j0IMKlG",
    "outputId": "5463020f-14c4-4af2-c5ea-179cce89d132"
   },
   "outputs": [
    {
     "data": {
      "text/html": [
       "\n",
       "  <div id=\"df-aee79702-ac58-43cb-b6ec-313865813577\">\n",
       "    <div class=\"colab-df-container\">\n",
       "      <div>\n",
       "<style scoped>\n",
       "    .dataframe tbody tr th:only-of-type {\n",
       "        vertical-align: middle;\n",
       "    }\n",
       "\n",
       "    .dataframe tbody tr th {\n",
       "        vertical-align: top;\n",
       "    }\n",
       "\n",
       "    .dataframe thead th {\n",
       "        text-align: right;\n",
       "    }\n",
       "</style>\n",
       "<table border=\"1\" class=\"dataframe\">\n",
       "  <thead>\n",
       "    <tr style=\"text-align: right;\">\n",
       "      <th></th>\n",
       "      <th>school_state</th>\n",
       "      <th>teacher_prefix</th>\n",
       "      <th>project_grade_category</th>\n",
       "      <th>teacher_number_of_previously_posted_projects</th>\n",
       "      <th>clean_categories</th>\n",
       "      <th>clean_subcategories</th>\n",
       "      <th>essay</th>\n",
       "      <th>price</th>\n",
       "    </tr>\n",
       "  </thead>\n",
       "  <tbody>\n",
       "    <tr>\n",
       "      <th>0</th>\n",
       "      <td>ct</td>\n",
       "      <td>ms</td>\n",
       "      <td>grades_prek_2</td>\n",
       "      <td>2</td>\n",
       "      <td>specialneeds</td>\n",
       "      <td>specialneeds</td>\n",
       "      <td>my school urban district materials bought pock...</td>\n",
       "      <td>313.22</td>\n",
       "    </tr>\n",
       "  </tbody>\n",
       "</table>\n",
       "</div>\n",
       "      <button class=\"colab-df-convert\" onclick=\"convertToInteractive('df-aee79702-ac58-43cb-b6ec-313865813577')\"\n",
       "              title=\"Convert this dataframe to an interactive table.\"\n",
       "              style=\"display:none;\">\n",
       "        \n",
       "  <svg xmlns=\"http://www.w3.org/2000/svg\" height=\"24px\"viewBox=\"0 0 24 24\"\n",
       "       width=\"24px\">\n",
       "    <path d=\"M0 0h24v24H0V0z\" fill=\"none\"/>\n",
       "    <path d=\"M18.56 5.44l.94 2.06.94-2.06 2.06-.94-2.06-.94-.94-2.06-.94 2.06-2.06.94zm-11 1L8.5 8.5l.94-2.06 2.06-.94-2.06-.94L8.5 2.5l-.94 2.06-2.06.94zm10 10l.94 2.06.94-2.06 2.06-.94-2.06-.94-.94-2.06-.94 2.06-2.06.94z\"/><path d=\"M17.41 7.96l-1.37-1.37c-.4-.4-.92-.59-1.43-.59-.52 0-1.04.2-1.43.59L10.3 9.45l-7.72 7.72c-.78.78-.78 2.05 0 2.83L4 21.41c.39.39.9.59 1.41.59.51 0 1.02-.2 1.41-.59l7.78-7.78 2.81-2.81c.8-.78.8-2.07 0-2.86zM5.41 20L4 18.59l7.72-7.72 1.47 1.35L5.41 20z\"/>\n",
       "  </svg>\n",
       "      </button>\n",
       "      \n",
       "  <style>\n",
       "    .colab-df-container {\n",
       "      display:flex;\n",
       "      flex-wrap:wrap;\n",
       "      gap: 12px;\n",
       "    }\n",
       "\n",
       "    .colab-df-convert {\n",
       "      background-color: #E8F0FE;\n",
       "      border: none;\n",
       "      border-radius: 50%;\n",
       "      cursor: pointer;\n",
       "      display: none;\n",
       "      fill: #1967D2;\n",
       "      height: 32px;\n",
       "      padding: 0 0 0 0;\n",
       "      width: 32px;\n",
       "    }\n",
       "\n",
       "    .colab-df-convert:hover {\n",
       "      background-color: #E2EBFA;\n",
       "      box-shadow: 0px 1px 2px rgba(60, 64, 67, 0.3), 0px 1px 3px 1px rgba(60, 64, 67, 0.15);\n",
       "      fill: #174EA6;\n",
       "    }\n",
       "\n",
       "    [theme=dark] .colab-df-convert {\n",
       "      background-color: #3B4455;\n",
       "      fill: #D2E3FC;\n",
       "    }\n",
       "\n",
       "    [theme=dark] .colab-df-convert:hover {\n",
       "      background-color: #434B5C;\n",
       "      box-shadow: 0px 1px 3px 1px rgba(0, 0, 0, 0.15);\n",
       "      filter: drop-shadow(0px 1px 2px rgba(0, 0, 0, 0.3));\n",
       "      fill: #FFFFFF;\n",
       "    }\n",
       "  </style>\n",
       "\n",
       "      <script>\n",
       "        const buttonEl =\n",
       "          document.querySelector('#df-aee79702-ac58-43cb-b6ec-313865813577 button.colab-df-convert');\n",
       "        buttonEl.style.display =\n",
       "          google.colab.kernel.accessAllowed ? 'block' : 'none';\n",
       "\n",
       "        async function convertToInteractive(key) {\n",
       "          const element = document.querySelector('#df-aee79702-ac58-43cb-b6ec-313865813577');\n",
       "          const dataTable =\n",
       "            await google.colab.kernel.invokeFunction('convertToInteractive',\n",
       "                                                     [key], {});\n",
       "          if (!dataTable) return;\n",
       "\n",
       "          const docLinkHtml = 'Like what you see? Visit the ' +\n",
       "            '<a target=\"_blank\" href=https://colab.research.google.com/notebooks/data_table.ipynb>data table notebook</a>'\n",
       "            + ' to learn more about interactive tables.';\n",
       "          element.innerHTML = '';\n",
       "          dataTable['output_type'] = 'display_data';\n",
       "          await google.colab.output.renderOutput(dataTable, element);\n",
       "          const docLink = document.createElement('div');\n",
       "          docLink.innerHTML = docLinkHtml;\n",
       "          element.appendChild(docLink);\n",
       "        }\n",
       "      </script>\n",
       "    </div>\n",
       "  </div>\n",
       "  "
      ],
      "text/plain": [
       "  school_state teacher_prefix project_grade_category  \\\n",
       "0           ct             ms          grades_prek_2   \n",
       "\n",
       "   teacher_number_of_previously_posted_projects clean_categories  \\\n",
       "0                                             2     specialneeds   \n",
       "\n",
       "  clean_subcategories                                              essay  \\\n",
       "0        specialneeds  my school urban district materials bought pock...   \n",
       "\n",
       "    price  \n",
       "0  313.22  "
      ]
     },
     "execution_count": 112,
     "metadata": {},
     "output_type": "execute_result"
    }
   ],
   "source": [
    "X_train.head(1)"
   ]
  },
  {
   "cell_type": "code",
   "execution_count": null,
   "metadata": {
    "id": "3pjjV70DMKlZ"
   },
   "outputs": [],
   "source": [
    "from sklearn.preprocessing import OneHotEncoder\n",
    "from sklearn.feature_extraction.text import CountVectorizer\n",
    "\n",
    "encode = OneHotEncoder(handle_unknown= 'ignore', sparse= False)\n",
    "encode.fit(X_train[['project_grade_category']])\n",
    "project_grade_cate_tr = encode.transform(X_train[['project_grade_category']])\n",
    "project_grade_cate_te = encode.transform(X_test[['project_grade_category']])\n",
    "\n",
    "encode = OneHotEncoder(handle_unknown= 'ignore', sparse= False)\n",
    "encode.fit(X_train[['school_state']])\n",
    "school_state = encode.transform(X_train[['school_state']])\n",
    "school_state_te = encode.transform(X_test[['school_state']])\n",
    "\n",
    "encode = OneHotEncoder(handle_unknown= 'ignore', sparse= False)\n",
    "encode.fit(X_train[['teacher_prefix']])\n",
    "teacher_prefix = encode.transform(X_train[['teacher_prefix']])\n",
    "teacher_prefix_te = encode.transform(X_test[['teacher_prefix']])\n"
   ]
  },
  {
   "cell_type": "code",
   "execution_count": null,
   "metadata": {
    "colab": {
     "base_uri": "https://localhost:8080/"
    },
    "id": "X4g8dSEXy63w",
    "outputId": "471ed01f-21a1-49fa-f89a-bd04f61d1183"
   },
   "outputs": [
    {
     "data": {
      "text/plain": [
       "array([['specialneeds'],\n",
       "       ['health_sports'],\n",
       "       ['health_sports'],\n",
       "       ...,\n",
       "       ['specialneeds'],\n",
       "       ['literacy_language math_science'],\n",
       "       ['literacy_language']], dtype=object)"
      ]
     },
     "execution_count": 114,
     "metadata": {},
     "output_type": "execute_result"
    }
   ],
   "source": [
    "X_train[[\"clean_categories\"]].values"
   ]
  },
  {
   "cell_type": "code",
   "execution_count": null,
   "metadata": {
    "colab": {
     "base_uri": "https://localhost:8080/"
    },
    "id": "nSIhckLAyjEE",
    "outputId": "354bd2c4-dfbd-4683-8955-9fcade3ea564"
   },
   "outputs": [
    {
     "data": {
      "text/plain": [
       "(69918, 51)"
      ]
     },
     "execution_count": 115,
     "metadata": {},
     "output_type": "execute_result"
    }
   ],
   "source": [
    "# One hot encoding of Categorical Feature: clean_categories \n",
    "\n",
    "encode = OneHotEncoder(handle_unknown= 'ignore', sparse= False)\n",
    "encode.fit(X_train[['clean_categories']])\n",
    "clean_categories = encode.transform(X_train[['clean_categories']])\n",
    "clean_categories_te = encode.transform(X_test[['clean_categories']])\n",
    "\n",
    "clean_categories.shape"
   ]
  },
  {
   "cell_type": "code",
   "execution_count": null,
   "metadata": {
    "colab": {
     "base_uri": "https://localhost:8080/"
    },
    "id": "OLl_cz-WzYRS",
    "outputId": "9b68f736-4dfe-488c-84d1-6b5a673a560f"
   },
   "outputs": [
    {
     "data": {
      "text/plain": [
       "array([0., 0., 0., 0., 0., 0., 0., 0., 1., 0., 0., 0., 0., 0., 0., 0., 0.,\n",
       "       0., 0., 0., 0., 0., 0., 0., 0., 0., 0., 0., 0., 0., 0., 0., 0., 0.,\n",
       "       0., 0., 0., 0., 0., 0., 0., 0., 0., 0., 0., 0., 0., 0., 0., 0., 0.])"
      ]
     },
     "execution_count": 116,
     "metadata": {},
     "output_type": "execute_result"
    }
   ],
   "source": [
    "clean_categories[1]"
   ]
  },
  {
   "cell_type": "code",
   "execution_count": null,
   "metadata": {
    "colab": {
     "base_uri": "https://localhost:8080/"
    },
    "id": "daquU4BmylNW",
    "outputId": "2aea571b-56cb-4450-c160-414f0ae52ed0"
   },
   "outputs": [
    {
     "data": {
      "text/plain": [
       "((69918, 51), (69918, 5), (69918, 4), (69918, 51), (69918, 386))"
      ]
     },
     "execution_count": 117,
     "metadata": {},
     "output_type": "execute_result"
    }
   ],
   "source": [
    "# One hot encoding of categorical Feature: clean_subcategories \n",
    "\n",
    "encode = OneHotEncoder(handle_unknown= 'ignore', sparse= False)\n",
    "encode.fit(X_train[['clean_subcategories']])\n",
    "clean_subcategories = encode.transform(X_train[['clean_subcategories']])\n",
    "clean_subcategories_te = encode.transform(X_test[['clean_subcategories']])\n",
    "\n",
    "\n",
    "\n",
    "\n",
    "# school_state, teacher_prefix, teacher_number_of_previously_posted_projects, project_grade_cate_tr, clean_categories, clean_subcategories, \n",
    "school_state.shape, teacher_prefix.shape, project_grade_cate_tr.shape, clean_categories.shape, clean_subcategories.shape\n"
   ]
  },
  {
   "cell_type": "code",
   "execution_count": null,
   "metadata": {
    "colab": {
     "base_uri": "https://localhost:8080/"
    },
    "id": "0i2VgIguMKlc",
    "outputId": "bfd0e3b2-4dfd-470f-b39a-0999e1c25cd0"
   },
   "outputs": [
    {
     "data": {
      "text/plain": [
       "((69918, 499), (21850, 499), (69918, 2), (21850, 2))"
      ]
     },
     "execution_count": 118,
     "metadata": {},
     "output_type": "execute_result"
    }
   ],
   "source": [
    "x_tr = np.hstack([school_state, teacher_prefix,\n",
    "                  project_grade_cate_tr, clean_categories, clean_subcategories, price, teacher_posted_projects])\n",
    "\n",
    "x_te = np.hstack([school_state_te, teacher_prefix_te,\n",
    "                  project_grade_cate_te, clean_categories_te, clean_subcategories_te, price_te, teacher_posted_projects_te])\n",
    "\n",
    "x_tr.shape, x_te.shape, y_train.shape, y_test.shape"
   ]
  },
  {
   "cell_type": "code",
   "execution_count": null,
   "metadata": {
    "colab": {
     "base_uri": "https://localhost:8080/"
    },
    "id": "qQRzRQc4MKlh",
    "outputId": "1a7067d0-1ec2-485d-867a-00451770b1a6"
   },
   "outputs": [
    {
     "data": {
      "text/plain": [
       "((69918, 499, 1), (21850, 499, 1), (69918, 2), 3)"
      ]
     },
     "execution_count": 119,
     "metadata": {},
     "output_type": "execute_result"
    }
   ],
   "source": [
    "#the input to conv1d layer is 3d, you can convert your 2d data to 3d using np.newaxis\n",
    "if x_tr.ndim == 2:\n",
    "    x_tr = np.reshape(x_tr, (x_tr.shape[0],x_tr.shape[1],1))\n",
    "    # y_train = y_train.values.reshape((-1,1))\n",
    "\n",
    "if x_te.ndim == 2:\n",
    "    x_te = np.reshape(x_te, (x_te.shape[0],x_te.shape[1],1))\n",
    "    # y_train = y_train.values.reshape((-1,1))\n",
    "        \n",
    "x_tr.shape, x_te.shape, y_train.shape , x_tr.ndim"
   ]
  },
  {
   "cell_type": "markdown",
   "metadata": {
    "id": "KBNsEhgEMKlj"
   },
   "source": [
    "####  handle sparse matrix \n",
    "\n",
    "there are two possible approaches:\n",
    "\n",
    "1. not working - Keep it as a scipy sparse matrix, then, when giving Keras a minibatch, make it dense\n",
    "2. Keep it sparse all the way through, and use Tensorflow Sparse Tensors\n",
    "\n",
    "we will go with 2 option as we assume it will give more accuracy \n",
    "\n",
    "\n"
   ]
  },
  {
   "cell_type": "code",
   "execution_count": null,
   "metadata": {
    "id": "QDufGhXQtLlI"
   },
   "outputs": [],
   "source": [
    "from scipy import sparse\n",
    "\n",
    "# temp_df = sparse.csr_matrix(x_tr)"
   ]
  },
  {
   "cell_type": "markdown",
   "metadata": {
    "id": "4C6TcnysssXq"
   },
   "source": [
    "\n",
    "####  handling  imbalance dataset\n",
    "after some reseach i got 2 way for this problem\n",
    "1. **not working** - initilize bias to the output layer with initial weight which is calculated \n",
    "    by refer: https://www.tensorflow.org/tutorials/structured_data/imbalanced_data#define_the_model_and_metrics\n",
    "\n",
    "code: output_bias = np.log([pos/neg]) \n",
    "![image.png](attachment:image.png)\n",
    "\n",
    "2. **not tried** - upsampling or downsampling"
   ]
  },
  {
   "cell_type": "code",
   "execution_count": null,
   "metadata": {
    "colab": {
     "base_uri": "https://localhost:8080/"
    },
    "id": "8oOZUJZhMKll",
    "outputId": "3d82fe91-c3af-4c74-fc82-ad01a1dcc8b6"
   },
   "outputs": [
    {
     "data": {
      "text/plain": [
       "(139836, 139836)"
      ]
     },
     "execution_count": 121,
     "metadata": {},
     "output_type": "execute_result"
    }
   ],
   "source": [
    "# model will take care of it\n",
    "pos = y_train[y_train==1].size\n",
    "neg = y_train[y_train==0].size\n",
    "\n",
    "pos, neg"
   ]
  },
  {
   "cell_type": "markdown",
   "metadata": {
    "id": "0DU6iYKms24w"
   },
   "source": [
    "### 3.2 Defining model"
   ]
  },
  {
   "cell_type": "code",
   "execution_count": null,
   "metadata": {
    "id": "MzPudbvEMKlm"
   },
   "outputs": [],
   "source": [
    "tf.keras.backend.clear_session()\n",
    "\n",
    "n_feature = x_tr.shape[1]\n",
    "input_shape = (n_feature, 1,1 )\n",
    "\n",
    "total_text_input = Input(shape=(text_padded.shape[1]), name=\"total_text_input\")  # Variable-length sequence of ints\n",
    "\n",
    "# Embed each word into a 300-dimensional vector\n",
    "vocab_size = len(word_corpus)+1\n",
    "emd_text_data = layers.Embedding(vocab_size, 300, weights=[embedding_matrix],\n",
    "                                  input_length=text_padded.shape[1], trainable=False, name='emd_text_data')(total_text_input)\n",
    "# Reduce sequence of embedded words in the title into a single 128-dimensional vector\n",
    "lstm = layers.LSTM(128)(emd_text_data)\n",
    "\n",
    "\n",
    "\n",
    "otherthan_text_data = Input( shape= input_shape, name='otherthan_text_data')\n",
    "\n",
    "#conve for otherthan_text_data\n",
    "conv1d_1 = layers.Conv1D(3,3, padding='same', activation = 'relu',input_shape=input_shape, name = 'convd1')(otherthan_text_data)\n",
    "conv1d_2 = layers.Conv1D(3,3, padding='same', activation = 'relu',input_shape=input_shape, name = 'convd2')(conv1d_1)\n",
    "# flattening \n",
    "flatten_1 = Flatten()(conv1d_2)\n",
    "\n",
    "\n",
    "\n",
    "# cacatenating 2 outputs\n",
    "concatenate = layers.concatenate([lstm, flatten_1])\n",
    "\n",
    "dense_layer1_after_concat = Dense(256, name = \"dense_layer1_after_concat\")(concatenate)\n",
    "\n",
    "dropout_1 = layers.Dropout(0.5)(dense_layer1_after_concat)\n",
    "\n",
    "dense_layer2_after_concat = Dense(164 , name = \"dense_layer2_after_concat\")(dropout_1)\n",
    "\n",
    "dropout_2 = layers.Dropout(0.4)(dense_layer2_after_concat)\n",
    "\n",
    "dense_layern_after_concat = Dense(112, name=\"dense_layern_after_concat\")(dropout_2)\n",
    "\n",
    "x = Flatten()(dense_layern_after_concat)\n",
    "\n",
    "output_layer_classify_with_softmax = Dense(2, activation=\"softmax\", name=\"output_label\")(x)\n",
    "\n",
    "model_3 = Model(inputs = [total_text_input,otherthan_text_data], outputs= [output_layer_classify_with_softmax])\n"
   ]
  },
  {
   "cell_type": "code",
   "execution_count": null,
   "metadata": {
    "colab": {
     "base_uri": "https://localhost:8080/",
     "height": 1000
    },
    "id": "420WfDCXMKlo",
    "outputId": "ba65c071-3915-4c84-ad82-edd8cebc7106"
   },
   "outputs": [
    {
     "data": {
      "image/png": "[encoded data removed]",
      "text/plain": [
       "<IPython.core.display.Image object>"
      ]
     },
     "execution_count": 129,
     "metadata": {},
     "output_type": "execute_result"
    }
   ],
   "source": [
    "tf.keras.utils.plot_model(model_3, \"multi_input_and_output_model.png\", show_shapes=True)\n"
   ]
  },
  {
   "cell_type": "code",
   "execution_count": null,
   "metadata": {
    "colab": {
     "base_uri": "https://localhost:8080/"
    },
    "id": "IrzdedxHMKlt",
    "outputId": "d1cc01db-5fe4-42e6-b813-6c472f19c51c"
   },
   "outputs": [
    {
     "name": "stdout",
     "output_type": "stream",
     "text": [
      "Model: \"model\"\n",
      "__________________________________________________________________________________________________\n",
      " Layer (type)                   Output Shape         Param #     Connected to                     \n",
      "==================================================================================================\n",
      " otherthan_text_data (InputLaye  [(None, 499, 1, 1)]  0          []                               \n",
      " r)                                                                                               \n",
      "                                                                                                  \n",
      " total_text_input (InputLayer)  [(None, 339)]        0           []                               \n",
      "                                                                                                  \n",
      " convd1 (Conv1D)                (None, 499, 1, 3)    12          ['otherthan_text_data[0][0]']    \n",
      "                                                                                                  \n",
      " emd_text_data (Embedding)      (None, 339, 300)     14215500    ['total_text_input[0][0]']       \n",
      "                                                                                                  \n",
      " convd2 (Conv1D)                (None, 499, 1, 3)    30          ['convd1[0][0]']                 \n",
      "                                                                                                  \n",
      " lstm (LSTM)                    (None, 128)          219648      ['emd_text_data[0][0]']          \n",
      "                                                                                                  \n",
      " flatten (Flatten)              (None, 1497)         0           ['convd2[0][0]']                 \n",
      "                                                                                                  \n",
      " concatenate (Concatenate)      (None, 1625)         0           ['lstm[0][0]',                   \n",
      "                                                                  'flatten[0][0]']                \n",
      "                                                                                                  \n",
      " dense_layer1_after_concat (Den  (None, 256)         416256      ['concatenate[0][0]']            \n",
      " se)                                                                                              \n",
      "                                                                                                  \n",
      " dropout (Dropout)              (None, 256)          0           ['dense_layer1_after_concat[0][0]\n",
      "                                                                 ']                               \n",
      "                                                                                                  \n",
      " dense_layer2_after_concat (Den  (None, 164)         42148       ['dropout[0][0]']                \n",
      " se)                                                                                              \n",
      "                                                                                                  \n",
      " dropout_1 (Dropout)            (None, 164)          0           ['dense_layer2_after_concat[0][0]\n",
      "                                                                 ']                               \n",
      "                                                                                                  \n",
      " dense_layern_after_concat (Den  (None, 112)         18480       ['dropout_1[0][0]']              \n",
      " se)                                                                                              \n",
      "                                                                                                  \n",
      " flatten_1 (Flatten)            (None, 112)          0           ['dense_layern_after_concat[0][0]\n",
      "                                                                 ']                               \n",
      "                                                                                                  \n",
      " output_label (Dense)           (None, 2)            226         ['flatten_1[0][0]']              \n",
      "                                                                                                  \n",
      "==================================================================================================\n",
      "Total params: 14,912,300\n",
      "Trainable params: 696,800\n",
      "Non-trainable params: 14,215,500\n",
      "__________________________________________________________________________________________________\n"
     ]
    }
   ],
   "source": [
    "model_3.summary()"
   ]
  },
  {
   "cell_type": "markdown",
   "metadata": {
    "id": "WwqXdPNeMKlv"
   },
   "source": [
    "### 3.3 **compile and fit**\n",
    "note - auc is contant - changing activation from softmax to sigmoid improve auc litle,  "
   ]
  },
  {
   "cell_type": "code",
   "execution_count": null,
   "metadata": {
    "colab": {
     "base_uri": "https://localhost:8080/"
    },
    "id": "3iUv4jpOMKlw",
    "outputId": "1560c267-6ff5-4e12-f727-272241169985"
   },
   "outputs": [
    {
     "name": "stderr",
     "output_type": "stream",
     "text": [
      "/usr/local/lib/python3.7/dist-packages/keras/optimizer_v2/adam.py:105: UserWarning: The `lr` argument is deprecated, use `learning_rate` instead.\n",
      "  super(Adam, self).__init__(name, **kwargs)\n"
     ]
    }
   ],
   "source": [
    "model_3.compile(optimizer=tf.keras.optimizers.Adam(lr=0.0001,decay = 1e-4),\n",
    "              loss='categorical_crossentropy',\n",
    "              metrics=['accuracy', auc])\n",
    "\n"
   ]
  },
  {
   "cell_type": "code",
   "execution_count": null,
   "metadata": {
    "colab": {
     "base_uri": "https://localhost:8080/"
    },
    "id": "WVlcIHOIMKl0",
    "outputId": "46cce17d-dd77-4ef3-bca3-349888568621"
   },
   "outputs": [
    {
     "name": "stdout",
     "output_type": "stream",
     "text": [
      "Epoch 1/10\n",
      "273/274 [============================>.] - ETA: 0s - loss: 0.4207 - accuracy: 0.8473 - auc: 0.5909\n",
      "Epoch 1: val_auc improved from -inf to 0.59676, saving model to weights/weights_copy_model_3.best.hdf5\n",
      "274/274 [==============================] - 17s 63ms/step - loss: 0.4208 - accuracy: 0.8473 - auc: 0.5913 - val_loss: 0.4196 - val_accuracy: 0.8484 - val_auc: 0.5968\n",
      "Epoch 2/10\n",
      "273/274 [============================>.] - ETA: 0s - loss: 0.4204 - accuracy: 0.8472 - auc: 0.5955\n",
      "Epoch 2: val_auc improved from 0.59676 to 0.59676, saving model to weights/weights_copy_model_3.best.hdf5\n",
      "274/274 [==============================] - 18s 66ms/step - loss: 0.4204 - accuracy: 0.8472 - auc: 0.5959 - val_loss: 0.4191 - val_accuracy: 0.8483 - val_auc: 0.5968\n",
      "Epoch 3/10\n",
      "273/274 [============================>.] - ETA: 0s - loss: 0.4202 - accuracy: 0.8472 - auc: 0.5955\n",
      "Epoch 3: val_auc did not improve from 0.59676\n",
      "274/274 [==============================] - 18s 65ms/step - loss: 0.4202 - accuracy: 0.8473 - auc: 0.5939 - val_loss: 0.4193 - val_accuracy: 0.8482 - val_auc: 0.5965\n",
      "Epoch 4/10\n",
      "273/274 [============================>.] - ETA: 0s - loss: 0.4199 - accuracy: 0.8473 - auc: 0.5960\n",
      "Epoch 4: val_auc improved from 0.59676 to 0.59678, saving model to weights/weights_copy_model_3.best.hdf5\n",
      "274/274 [==============================] - 17s 63ms/step - loss: 0.4201 - accuracy: 0.8472 - auc: 0.5963 - val_loss: 0.4192 - val_accuracy: 0.8483 - val_auc: 0.5968\n",
      "Epoch 5/10\n",
      "273/274 [============================>.] - ETA: 0s - loss: 0.4198 - accuracy: 0.8471 - auc: 0.5987\n",
      "Epoch 5: val_auc improved from 0.59678 to 0.59869, saving model to weights/weights_copy_model_3.best.hdf5\n",
      "274/274 [==============================] - 17s 63ms/step - loss: 0.4198 - accuracy: 0.8472 - auc: 0.5979 - val_loss: 0.4189 - val_accuracy: 0.8483 - val_auc: 0.5987\n",
      "Epoch 6/10\n",
      "273/274 [============================>.] - ETA: 0s - loss: 0.4195 - accuracy: 0.8472 - auc: 0.5994\n",
      "Epoch 6: val_auc improved from 0.59869 to 0.61527, saving model to weights/weights_copy_model_3.best.hdf5\n",
      "274/274 [==============================] - 17s 64ms/step - loss: 0.4195 - accuracy: 0.8473 - auc: 0.5998 - val_loss: 0.4170 - val_accuracy: 0.8482 - val_auc: 0.6153\n",
      "Epoch 7/10\n",
      "273/274 [============================>.] - ETA: 0s - loss: 0.4155 - accuracy: 0.8472 - auc: 0.6282\n",
      "Epoch 7: val_auc improved from 0.61527 to 0.69142, saving model to weights/weights_copy_model_3.best.hdf5\n",
      "274/274 [==============================] - 18s 64ms/step - loss: 0.4155 - accuracy: 0.8472 - auc: 0.6279 - val_loss: 0.3989 - val_accuracy: 0.8482 - val_auc: 0.6914\n",
      "Epoch 8/10\n",
      "273/274 [============================>.] - ETA: 0s - loss: 0.3970 - accuracy: 0.8469 - auc: 0.6953\n",
      "Epoch 8: val_auc improved from 0.69142 to 0.70998, saving model to weights/weights_copy_model_3.best.hdf5\n",
      "274/274 [==============================] - 18s 67ms/step - loss: 0.3970 - accuracy: 0.8469 - auc: 0.6956 - val_loss: 0.3893 - val_accuracy: 0.8443 - val_auc: 0.7100\n",
      "Epoch 9/10\n",
      "273/274 [============================>.] - ETA: 0s - loss: 0.3894 - accuracy: 0.8469 - auc: 0.7136\n",
      "Epoch 9: val_auc improved from 0.70998 to 0.71935, saving model to weights/weights_copy_model_3.best.hdf5\n",
      "274/274 [==============================] - 18s 67ms/step - loss: 0.3894 - accuracy: 0.8469 - auc: 0.7129 - val_loss: 0.3845 - val_accuracy: 0.8492 - val_auc: 0.7194\n",
      "Epoch 10/10\n",
      "273/274 [============================>.] - ETA: 0s - loss: 0.3830 - accuracy: 0.8479 - auc: 0.7249\n",
      "Epoch 10: val_auc improved from 0.71935 to 0.72512, saving model to weights/weights_copy_model_3.best.hdf5\n",
      "274/274 [==============================] - 18s 65ms/step - loss: 0.3830 - accuracy: 0.8479 - auc: 0.7242 - val_loss: 0.3839 - val_accuracy: 0.8483 - val_auc: 0.7251\n"
     ]
    },
    {
     "data": {
      "text/plain": [
       "<keras.callbacks.History at 0x7f115a2df590>"
      ]
     },
     "execution_count": 133,
     "metadata": {},
     "output_type": "execute_result"
    }
   ],
   "source": [
    "model.run_eagerly = True\n",
    "log_dir = \"logs/fit_3/\" + datetime.datetime.now().strftime(\"%Y%m%d-%H%M%S\")\n",
    "tensorboard = tf.keras.callbacks.TensorBoard(log_dir=log_dir)\n",
    "\n",
    "\n",
    "filepath=\"weights/weights_copy_model_3.best.hdf5\"\n",
    "\n",
    "earlystopping_1 = tf.keras.callbacks.EarlyStopping(monitor='val_loss', patience=3, verbose=1)\n",
    "\n",
    "checkpoint = tf.keras.callbacks.ModelCheckpoint(filepath, monitor='val_auc', verbose=1, save_best_only=True, mode='max')\n",
    "\n",
    "callbacks_list = [checkpoint,tensorboard,earlystopping_1]\n",
    "\n",
    "model_3.fit(\n",
    "            {\"total_text_input\": text_padded, \"otherthan_text_data\": x_tr},\n",
    "              {'output_label': y_train},\n",
    "              epochs = 20,\n",
    "              batch_size =256, \n",
    "              validation_data = ([text_padded_te,x_te],y_test),\n",
    "              callbacks=callbacks_list, verbose=1,\n",
    "    )\n"
   ]
  },
  {
   "cell_type": "code",
   "execution_count": null,
   "metadata": {
    "colab": {
     "base_uri": "https://localhost:8080/"
    },
    "id": "odTM104ek1AX",
    "outputId": "68c99970-5bb0-49ce-de21-bfb49b1208ad"
   },
   "outputs": [
    {
     "data": {
      "text/plain": [
       "((21850, 499, 1), (21850, 339))"
      ]
     },
     "execution_count": 127,
     "metadata": {},
     "output_type": "execute_result"
    }
   ],
   "source": [
    "x_te.shape, text_padded_te.shape"
   ]
  }
 ],
 "metadata": {
  "colab": {
   "collapsed_sections": [
    "9n9jEwDxMKgL",
    "_iK6nyO2A6Sp",
    "w9lEvzcRteYK",
    "J_k8twqXMKkO",
    "KBNsEhgEMKlj",
    "4C6TcnysssXq"
   ],
   "provenance": []
  },
  "gpuClass": "standard",
  "kernelspec": {
   "display_name": "Python 3",
   "language": "python",
   "name": "python3"
  },
  "language_info": {
   "codemirror_mode": {
    "name": "ipython",
    "version": 3
   },
   "file_extension": ".py",
   "mimetype": "text/x-python",
   "name": "python",
   "nbconvert_exporter": "python",
   "pygments_lexer": "ipython3",
   "version": "3.8.5"
  }
 },
 "nbformat": 4,
 "nbformat_minor": 1
}
